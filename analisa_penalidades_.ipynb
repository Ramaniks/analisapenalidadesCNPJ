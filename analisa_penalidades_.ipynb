{
 "cells": [
  {
   "cell_type": "markdown",
   "metadata": {},
   "source": [
    "# Análise de Empresas Penalizadas pelo Governo\n",
    "\n",
    "Vamos realizar uma **análise exploratória** e uma **integração de dados** preliminar para analisar as empresas penalizadas pelo Governo. O objetivo é gerar insights para projetos e trilhas futuras no Governo Federal quanto à compras públicas.\n",
    "\n",
    "**O que é uma empresa penalizada?** uma empresa contratada pelo Governo pode ser penalizada por vários motivos como irregularidade na prestação de serviços, descumprimento de cláusula contratual, problemas na apresentação de contas, entre outros. Como penalidade, uma empresa pode receber desde uma advertência, multa e até a suspensão e proibição de contratação pelo Governo. Falam muito sobre empresas \"SICAFEADAS\", aquelas cadastradas na lista negra do SICAF, que não podem mais ter contratos com o Governo porque estão com alguma penalidade ativa. Porém, descobrimos que não existe só o SICAF. Por isso, o primeiro desafio foi o de identificar quem são os órgãos penalizadores e onde estão estas bases de dados. Pra nomenclatura, entendemos como **penalidade** qualquer tipo de **ocorrência** ou **sanção** contra empresas contratadas pelo Governo.\n",
    "\n",
    "### Origens de Dados\n",
    "* Ministério da Economia.**SICAF:** http://compras.dados.gov.br/docs/fornecedores/v1/fornecedores.html\n",
    "* CGU. Cadastro de Entidades sem Fins Lucrativos Impedidas - **CEPIM:** http://www.portaltransparencia.gov.br/download-de-dados/cepim\n",
    "* CGU. Cadastro de Empresas Inidôneas e Suspensas - **CEIS:** http://www.portaltransparencia.gov.br/download-de-dados/ceis\n",
    "* CGU. Cadastro Nacional de Empresas Punidas - **CNEP:** http://www.portaltransparencia.gov.br/download-de-dados/cnep\n",
    "* TCU. Lista de responsáveis declarados inidôneos para participar de licitação na administração pública federal, nos termos do art. 46 da Lei Orgânica do TCU, cuja inidoneidade encontre-se vigente. **INIDONEOS**: https://portal.tcu.gov.br/responsabilizacao-publica/licitantes-inidoneos/\n",
    "* Governo do RJ. Sancoes do Sistema de Compras Públicas do Estado do Rio de Janeiro RJ. **SANCOES RJ:** http://www.compras.rj.gov.br/Portal-Siga/Sancao/listar.action (listagem de todos de 01/01/2000 a 18/02/2019)\n",
    "* Governo de MG. Sanções do Estado de Minas Gerais MG. (arquivo extraído ate 18/02/2019) **SANCOES MG:** https://www.cagef.mg.gov.br/fornecedor-web/br/gov/prodemge/seplag/fornecedor/publico/index.zul\n",
    "* Receita Federal. Cadastro Nacional de Empresas Jurídicas - CNPJ (arquivo de 14 de março de 2019) **EMPRESAS:** http://receita.economia.gov.br/orientacao/tributaria/cadastros/cadastro-nacional-de-pessoas-juridicas-cnpj/dados-publicos-cnpj\n",
    "\n",
    "### Análise contém:\n",
    "1. Quantidade de empresas no Brasil segundo a RFB. Empresas penalizadas x Empresas Ativas \n",
    "2. Quantidade de empresas no SICAF x Empresas penalizadas no SICAF\n",
    "3. Ranking das Empresas mais Penalizadas por Porte da Empresa\n",
    "4. Ranking de registros de penalidades por Origem (Sistema de Penalidades)\n",
    "5. Quem faz o registro de penalidades no SICAF, também faz no CEIS? \n",
    "6. Quais são os órgãos que mais aplicam penalidades;\n",
    "7. As legislações mais aplicadas em penalidades;\n",
    "8. Ranking das penalidades mais aplicadas (impedimento, multas, suspensão);\n",
    "9. Penalidades por mês e ano: Quando acontecem mais penalidades? \n",
    "10. Quantidade de penalidades por natureza jurídica;\n",
    "11. Quais tipos de serviços (CNAE) que sofreram mais penalidades?\n",
    "12. Top Empresas mais Penalizadas\n",
    "13. Empresas mais penalizadas por UF\n",
    "14. Foram dados prazos diferentes para a mesma penalidade?"
   ]
  },
  {
   "cell_type": "markdown",
   "metadata": {},
   "source": [
    "## 1. Carga dos Dados de Penalidades\n",
    "Todos os dados usados aqui foram extraídos em CSV dos links citados. Aqui iremos importar estes dados."
   ]
  },
  {
   "cell_type": "code",
   "execution_count": 1,
   "metadata": {},
   "outputs": [],
   "source": [
    "# Importa Bibliotecas Python\n",
    "import pandas as pd"
   ]
  },
  {
   "cell_type": "markdown",
   "metadata": {},
   "source": [
    "### 1.1 SICAF\n",
    "Ministério da Economia. http://compras.dados.gov.br/docs/fornecedores/v1/fornecedores.html"
   ]
  },
  {
   "cell_type": "code",
   "execution_count": 2,
   "metadata": {
    "scrolled": true
   },
   "outputs": [
    {
     "name": "stdout",
     "output_type": "stream",
     "text": [
      "There are 3572 rows and 8 columns\n"
     ]
    }
   ],
   "source": [
    "# 1.1 Carga dos Dados do SICAF\n",
    "sicaf = pd.read_csv(\"dados/20190417_SICAF.csv\", delimiter='\\t', nrows = None, encoding='latin1')\n",
    "\n",
    "# Cria uma coluna de Data de Inicio e outra de DataFim\n",
    "sicaf['dataInicio'] = sicaf['dataInicio'] = sicaf['dt_aplicacao'].fillna('') + sicaf['dt_inicial'].fillna('') + sicaf['dt_inicial.1'].fillna('') + sicaf['dt_inicial.2'].fillna('') + sicaf['dt_registro'].fillna('') + sicaf['dt_aplicacao.1'].fillna('') + sicaf['dt_inicial.3'].fillna('')  \n",
    "sicaf['dataFim'] = sicaf['dt_final'].fillna('') + sicaf['dt_final.1'].fillna('') + sicaf['dt_final.2'].fillna('') + sicaf['dt_final.3'].fillna('')\n",
    "\n",
    "# Deleta colunas de data excedentes\n",
    "sicaf = sicaf.drop(['dt_aplicacao', 'dt_inicial', 'dt_inicial.1', \n",
    "                    'dt_inicial.2', 'dt_registro', 'dt_aplicacao.1', 'dt_inicial.3', \n",
    "                    'dt_final', 'dt_final.1', 'dt_final.2', 'dt_final.3'], axis=1)\n",
    "\n",
    "# Altera o nome das colunas\n",
    "sicaf.columns = ['cnpj', 'nome', 'penalidade', 'sancionador', 'motivo', 'dataInicio', 'dataFim']\n",
    "\n",
    "# Adiciona uma nova coluna para identificar a origem de dados\n",
    "sicaf['origem'] = 'SICAF'\n",
    "\n",
    "# Imprime as dimensões e as primeiras linhas\n",
    "nRow, nCol = sicaf.shape\n",
    "print(f'There are {nRow} rows and {nCol} columns')\n",
    "sicaf.head(5)\n",
    "\n",
    "# Formata a data\n",
    "import datetime\n",
    "\n",
    "# Altera o tipo do campo para datetime\n",
    "sicaf['dataInicio']=pd.to_datetime(sicaf['dataInicio'], format=\"%Y-%m-%d\", errors='coerce')\n",
    "sicaf.head()\n",
    "\n",
    "# Muda o formato da data para dd/mm/yyyy\n",
    "sicaf['dataInicio']= sicaf['dataInicio'].dt.strftime('%d/%m/%Y')\n",
    "sicaf.head();"
   ]
  },
  {
   "cell_type": "code",
   "execution_count": 3,
   "metadata": {},
   "outputs": [
    {
     "name": "stdout",
     "output_type": "stream",
     "text": [
      "<class 'pandas.core.frame.DataFrame'>\n",
      "RangeIndex: 3572 entries, 0 to 3571\n",
      "Data columns (total 8 columns):\n",
      "cnpj           3572 non-null int64\n",
      "nome           3572 non-null object\n",
      "penalidade     3572 non-null object\n",
      "sancionador    3572 non-null object\n",
      "motivo         3572 non-null object\n",
      "dataInicio     3572 non-null object\n",
      "dataFim        3572 non-null object\n",
      "origem         3572 non-null object\n",
      "dtypes: int64(1), object(7)\n",
      "memory usage: 223.3+ KB\n"
     ]
    }
   ],
   "source": [
    "sicaf.info()"
   ]
  },
  {
   "cell_type": "markdown",
   "metadata": {},
   "source": [
    "### 1.2 CEPIM\n",
    "CGU. Cadastro de Entidades sem Fins Lucrativos Impedidas. Extraído ate 15/04/2019. CEPIM: http://www.portaltransparencia.gov.br/download-de-dados/cepim"
   ]
  },
  {
   "cell_type": "code",
   "execution_count": 4,
   "metadata": {},
   "outputs": [
    {
     "name": "stdout",
     "output_type": "stream",
     "text": [
      "There are 5570 rows and 8 columns\n"
     ]
    }
   ],
   "source": [
    "# 1.2 Carga dos Dados do CEPIM\n",
    "cepim = pd.read_csv(\"dados/20190415_CEPIM.csv\", delimiter=';', nrows = None, encoding='latin1')\n",
    "\n",
    "# Adiciona uma nova coluna para identificar a origem de dados\n",
    "cepim['origemDados'] = 'CEPIM'\n",
    "cepim['Tipo'] = 'Impedimento'\n",
    "\n",
    "# Deleta colunas\n",
    "cepim = cepim.drop(['NÚMERO CONVÊNIO'], axis=1)\n",
    "\n",
    "# Altera o nome das colunas\n",
    "cepim.columns = ['cnpj', 'nome', 'sancionador', 'motivo', 'origem', 'penalidade']\n",
    "\n",
    "# Cria colunas que não existem com valores vazios\n",
    "cepim['dataInicio'] = ''\n",
    "cepim['dataFim'] = ''\n",
    "\n",
    "# Muda a ordem das colunas\n",
    "cepim = cepim[['cnpj', 'nome','penalidade','sancionador','motivo','dataInicio','dataFim','origem']]\n",
    "\n",
    "# Imprime as dimensões e as primeiras linhas\n",
    "nRow, nCol = cepim.shape\n",
    "print(f'There are {nRow} rows and {nCol} columns')\n",
    "cepim.head(5);"
   ]
  },
  {
   "cell_type": "markdown",
   "metadata": {},
   "source": [
    "### 1.3 CEIS\n",
    "CGU. Cadastro de Empresas Inidôneas e Suspensas - CEIS. Extraído até 16/04/2019. Link: http://www.portaltransparencia.gov.br/download-de-dados/ceis"
   ]
  },
  {
   "cell_type": "code",
   "execution_count": 5,
   "metadata": {},
   "outputs": [
    {
     "name": "stdout",
     "output_type": "stream",
     "text": [
      "There are 12640 rows and 8 columns\n"
     ]
    }
   ],
   "source": [
    "# 1.3 Carga dos Dados do CEIS\n",
    "ceis = pd.read_csv(\"dados/20190416_CEIS.csv\", delimiter=';', nrows = None, encoding='latin1')\n",
    "\n",
    "# Adiciona uma nova coluna para identificar a origem de dados\n",
    "ceis['OrigemDados'] = 'CEIS'\n",
    "\n",
    "# Deleta colunas\n",
    "ceis = ceis.drop(['TIPO DE PESSOA', 'RAZÃO SOCIAL - CADASTRO RECEITA', \n",
    "                    'NOME FANTASIA - CADASTRO RECEITA', \n",
    "                    'NÚMERO DO PROCESSO',\n",
    "                    'UF ÓRGÃO SANCIONADOR',\n",
    "                    'ORIGEM INFORMAÇÕES',\n",
    "                    'DATA ORIGEM INFORMAÇÕES',\n",
    "                    'DATA PUBLICAÇÃO',\n",
    "                    'PUBLICAÇÃO',\n",
    "                    'DETALHAMENTO',\n",
    "                    'ABRAGÊNCIA DEFINIDA EM DECISÃO JUDICIAL',\n",
    "                    'DESCRIÇÃO DA FUNDAMENTAÇÃO LEGAL',\n",
    "                    'DATA DO TRÂNSITO EM JULGADO',\n",
    "                    'COMPLEMENTO DO ÓRGÃO',\n",
    "                    'OBSERVAÇÕES'], axis=1)\n",
    "\n",
    "# Altera o nome das colunas\n",
    "ceis.columns = ['cnpj', 'nome', 'penalidade', 'dataInicio', 'dataFim', 'sancionador', 'motivo', 'origem']\n",
    "\n",
    "# Muda a ordem das colunas\n",
    "ceis = ceis[['cnpj', 'nome','penalidade','sancionador','motivo','dataInicio','dataFim','origem']]\n",
    "\n",
    "# Imprime as dimensões e as primeiras linhas\n",
    "nRow, nCol = ceis.shape\n",
    "print(f'There are {nRow} rows and {nCol} columns')\n",
    "ceis.head(5);"
   ]
  },
  {
   "cell_type": "markdown",
   "metadata": {},
   "source": [
    "### 1.4 CNEP\n",
    "CGU. Cadastro Nacional de Empresas Punidas - CNEP. Extraído até 16/04/2019. Link: http://www.portaltransparencia.gov.br/download-de-dados/cnep"
   ]
  },
  {
   "cell_type": "code",
   "execution_count": 6,
   "metadata": {},
   "outputs": [
    {
     "name": "stdout",
     "output_type": "stream",
     "text": [
      "There are 101 rows and 8 columns\n"
     ]
    }
   ],
   "source": [
    "# 1.4 Carga dos Dados do CNEP\n",
    "cnep = pd.read_csv('dados/20190416_CNEP.csv', delimiter=';', nrows = None, encoding='latin1')\n",
    "\n",
    "# Adiciona uma nova coluna para identificar a origem de dados\n",
    "cnep['OrigemDados'] = 'CNEP'\n",
    "\n",
    "# Deleta colunas\n",
    "cnep = cnep.drop(['TIPO DE PESSOA', \n",
    "                  'RAZÃO SOCIAL  CADASTRO RECEITA', \n",
    "                  'NOME FANTASIA  CADASTRO RECEITA',\n",
    "                    'NÚMERO DO PROCESSO',\n",
    "                    'UF ÓRGÃO SANCIONADOR',\n",
    "                    'ORIGEM INFORMAÇÕES',\n",
    "                    'DATA ORIGEM INFORMAÇÕES',\n",
    "                    'DATA PUBLICAÇÃO',\n",
    "                    'PUBLICAÇÃO',\n",
    "                    'DETALHAMENTO',\n",
    "                    'VALOR DA MULTA',\n",
    "                    'DESCRIÇÃO DA FUNDAMENTAÇÃO LEGAL',\n",
    "                    'DATA DO TRÂNSITO EM JULGADO',\n",
    "                    'COMPLEMENTO DO ÓRGÃO'], axis=1)\n",
    "\n",
    "# Altera o nome das colunas\n",
    "cnep.columns = ['cnpj', 'nome', 'penalidade', 'dataInicio', 'dataFim', 'sancionador', 'motivo', 'origem']\n",
    "\n",
    "# Muda a ordem das colunas\n",
    "cnep = cnep[['cnpj', 'nome', 'penalidade', 'sancionador','motivo','dataInicio','dataFim','origem']]\n",
    "\n",
    "# Imprime as dimensões e as primeiras linhas\n",
    "nRow, nCol = cnep.shape\n",
    "print(f'There are {nRow} rows and {nCol} columns')\n",
    "cnep.head(5);"
   ]
  },
  {
   "cell_type": "markdown",
   "metadata": {},
   "source": [
    "### 1.5 INIDONEOS\n",
    "TCU. Lista de responsáveis declarados inidôneos para participar de licitação na administração pública federal, nos termos do art. 46 da Lei Orgânica do TCU, cuja inidoneidade encontre-se vigente. INIDONEOS:  https://contas.tcu.gov.br/ords/f?p=1660:2:0:CSV:::: "
   ]
  },
  {
   "cell_type": "code",
   "execution_count": 7,
   "metadata": {},
   "outputs": [
    {
     "name": "stdout",
     "output_type": "stream",
     "text": [
      "There are 183 rows and 8 columns\n"
     ]
    }
   ],
   "source": [
    "# 1.5 Carga dos Dados de INIDONEOS\n",
    "inidoneo = pd.read_csv('dados/20190416_INIDONEO.csv', delimiter=';', nrows = None, encoding='latin1')\n",
    "\n",
    "# Adiciona uma nova coluna para identificar a origem de dados\n",
    "inidoneo['OrigemDados'] = 'INIDONEO'\n",
    "inidoneo['Tipo'] = 'Inidoneo'\n",
    "\n",
    "# Deleta colunas\n",
    "inidoneo = inidoneo.drop(['Deliberação', 'Processo', 'UF'], axis=1)\n",
    "\n",
    "# Altera o nome das colunas\n",
    "inidoneo.columns = ['nome', 'cnpj', 'dataInicio', 'dataFim', 'origem', 'penalidade']\n",
    "\n",
    "# Cria colunas faltantes\n",
    "inidoneo['sancionador'] = 'TCU'\n",
    "inidoneo['motivo'] = ''\n",
    "\n",
    "# Muda a ordem das colunas\n",
    "inidoneo = inidoneo[['cnpj', 'nome', 'penalidade', 'sancionador','motivo','dataInicio','dataFim','origem']]\n",
    "\n",
    "# Imprime as dimensões e as primeiras linhas\n",
    "nRow, nCol = inidoneo.shape\n",
    "print(f'There are {nRow} rows and {nCol} columns')\n",
    "inidoneo.head(5);"
   ]
  },
  {
   "cell_type": "markdown",
   "metadata": {},
   "source": [
    "### 1.6 SANCOES RJ\n",
    "Governo do RJ. Sancoes do Sistema de Compras Públicas do Estado do Rio de Janeiro RJ. SANCOES RJ: http://www.compras.rj.gov.br/Portal-Siga/Sancao/listar.action (listagem de todos de 01/01/2000 a 18/02/2019)"
   ]
  },
  {
   "cell_type": "code",
   "execution_count": 8,
   "metadata": {},
   "outputs": [
    {
     "name": "stdout",
     "output_type": "stream",
     "text": [
      "There are 896 rows and 8 columns\n"
     ]
    }
   ],
   "source": [
    "# Carga dos Dados de Sancoes do RJ\n",
    "sancoesrj = pd.read_excel('dados/20190416_SancoesRJ.xls')\n",
    "\n",
    "# Adiciona uma nova coluna para identificar a origem de dados \n",
    "sancoesrj['OrigemDados'] = 'SANCOES RJ'\n",
    "\n",
    "# Deleta colunas\n",
    "sancoesrj = sancoesrj.drop(['Número do processo', 'Prazo', 'Data Início', 'Justificativa', 'Motivo'], axis=1)\n",
    "\n",
    "# Altera o nome das colunas\n",
    "sancoesrj.columns = ['nome', 'cnpj', 'motivo', 'dataInicio', 'dataFim', 'sancionador', 'penalidade', 'origem']\n",
    "\n",
    "# Muda a ordem das colunas\n",
    "sancoesrj = sancoesrj[['cnpj', 'nome','penalidade','sancionador','motivo','dataInicio','dataFim','origem']]\n",
    "\n",
    "# Imprime as dimensões e as primeiras linhas\n",
    "nRow, nCol = sancoesrj.shape\n",
    "print(f'There are {nRow} rows and {nCol} columns')\n",
    "sancoesrj.head(5);"
   ]
  },
  {
   "cell_type": "markdown",
   "metadata": {},
   "source": [
    "### 1.7 SANCOES MG\n",
    "Governo de MG. Sanções do Estado de Minas Gerais MG. (arquivo extraído ate 18/02/2019) SANCOES MG: https://www.cagef.mg.gov.br/fornecedor-web/br/gov/prodemge/seplag/fornecedor/publico/index.zul"
   ]
  },
  {
   "cell_type": "code",
   "execution_count": 9,
   "metadata": {},
   "outputs": [
    {
     "name": "stdout",
     "output_type": "stream",
     "text": [
      "There are 348 rows and 8 columns\n"
     ]
    }
   ],
   "source": [
    "# Carga dos Dados de Sancoes de MG\n",
    "sancoesmg = pd.read_csv('dados/20190218_SancoesMG.csv', delimiter=';', nrows = None, encoding='utf-8')\n",
    "\n",
    "# Adiciona uma nova coluna para identificar a origem de dados \n",
    "sancoesmg['OrigemDados'] = 'SANCOES MG'\n",
    "\n",
    "# Deleta colunas\n",
    "sancoesmg = sancoesmg.drop(['Data da Publicação do Despacho'], axis=1)\n",
    "\n",
    "# Cria colunas faltantes\n",
    "sancoesmg['motivo'] = ''\n",
    "\n",
    "# Altera o nome das colunas\n",
    "sancoesmg.columns = ['cnpj', 'nome', 'penalidade', 'dataInicio', 'dataFim', 'sancionador','origem', 'motivo']\n",
    "\n",
    "# Muda a ordem das colunas\n",
    "sancoesmg = sancoesmg[['cnpj', 'nome','penalidade','sancionador','motivo','dataInicio','dataFim','origem']]\n",
    "\n",
    "# Imprime as dimensões e as primeiras linhas\n",
    "nRow, nCol = sancoesmg.shape\n",
    "print(f'There are {nRow} rows and {nCol} columns')\n",
    "sancoesmg.head(5);"
   ]
  },
  {
   "cell_type": "markdown",
   "metadata": {},
   "source": [
    "## 2. Integração dos dados de Penalidades\n",
    "Vamos integrar os dados num dataset único num formato mais simples e padronizado. FORMATO:\n",
    "* cnpj\n",
    "* nomeEmpresa\n",
    "* tipo\n",
    "* sancionador\n",
    "* motivo\n",
    "* dataInicio\n",
    "* dataFim\n",
    "* origem"
   ]
  },
  {
   "cell_type": "code",
   "execution_count": 10,
   "metadata": {},
   "outputs": [],
   "source": [
    "# Junção dos dados de penalidades por CNPJ ou CPF\n",
    "penalidades = pd.concat([sicaf, cepim, ceis, cnep, inidoneo, sancoesrj, sancoesmg])"
   ]
  },
  {
   "cell_type": "code",
   "execution_count": 11,
   "metadata": {},
   "outputs": [],
   "source": [
    "# retirar pontos e traços dos numeros do cnpj de penalidades\n",
    "penalidades['cnpj'].replace(regex=True,inplace=True,to_replace=r'\\D',value=r'')"
   ]
  },
  {
   "cell_type": "code",
   "execution_count": 12,
   "metadata": {},
   "outputs": [],
   "source": [
    "# Transforma para str\n",
    "import numpy as np\n",
    "penalidades['cnpj'] = penalidades.cnpj.astype(str)\n",
    "\n",
    "# Remove os zeros antes do numero do CNPJ\n",
    "penalidades['cnpj'] = penalidades.cnpj.str.lstrip(\"0\")\n",
    "\n",
    "# Transforma para int64\n",
    "penalidades['cnpj'] = penalidades.cnpj.astype(np.int64)"
   ]
  },
  {
   "cell_type": "code",
   "execution_count": 13,
   "metadata": {},
   "outputs": [
    {
     "data": {
      "text/plain": [
       "0"
      ]
     },
     "execution_count": 13,
     "metadata": {},
     "output_type": "execute_result"
    }
   ],
   "source": [
    "# Verifica se tem algum que o CNPJ é nulo\n",
    "len(penalidades[penalidades['cnpj'].isnull()])"
   ]
  },
  {
   "cell_type": "code",
   "execution_count": 14,
   "metadata": {},
   "outputs": [
    {
     "name": "stdout",
     "output_type": "stream",
     "text": [
      "There are 23310 rows and 8 columns\n"
     ]
    }
   ],
   "source": [
    "# Imprime as dimensões e as primeiras linhas\n",
    "nRow, nCol = penalidades.shape\n",
    "print(f'There are {nRow} rows and {nCol} columns')\n",
    "penalidades.tail();"
   ]
  },
  {
   "cell_type": "code",
   "execution_count": 15,
   "metadata": {},
   "outputs": [],
   "source": [
    "# Salva o dataset de penalidades separado por TAB\n",
    "penalidades.to_csv('dados/penalidades.csv', sep = '\\t', index=False)"
   ]
  },
  {
   "cell_type": "markdown",
   "metadata": {},
   "source": [
    "## 3. Integração de Penalidades com dados das Empresas (vide RECEITA FEDERAL)\n",
    "Receita Federal. Cadastro Nacional de Empresas Jurídicas - CNPJ (arquivo de 14 de março de 2019). Este arquivo não contém penalidades, mas contém todas as empresas cadastradas na Receita Federal. \n",
    "\n",
    "EMPRESAS: http://receita.economia.gov.br/orientacao/tributaria/cadastros/cadastro-nacional-de-pessoas-juridicas-cnpj/dados-publicos-cnpj\n",
    "\n",
    "Adicionaremos os dados da Receita Federal de: situacao_cadastral, porte, data_inicio_atividade, uf, codigo_natureza_juridica"
   ]
  },
  {
   "cell_type": "code",
   "execution_count": 16,
   "metadata": {},
   "outputs": [
    {
     "data": {
      "text/plain": [
       "(40184161, 8)"
      ]
     },
     "execution_count": 16,
     "metadata": {},
     "output_type": "execute_result"
    }
   ],
   "source": [
    "# 1.1 Carga dos Dados do CNPJ da Receita Federal\n",
    "import pandas as pd\n",
    "cnpj = pd.read_csv('dados/cnpj_dados_cadastrais_pj.csv', sep='#',\n",
    "                   usecols=['cnpj', 'razao_social', 'cnae_fiscal', 'uf', 'porte_empresa', \n",
    "                            'data_inicio_atividade', 'codigo_natureza_juridica', 'situacao_cadastral'])\n",
    "\n",
    "# Quantidade de Empresas: 40 milhões\n",
    "cnpj.shape"
   ]
  },
  {
   "cell_type": "code",
   "execution_count": 17,
   "metadata": {},
   "outputs": [],
   "source": [
    "# Porque mais de 7 mil nao sao encontrados? Ajusta tipos de dados\n",
    "import numpy as np\n",
    "#dtype = dict(cnpj=np.int64)\n",
    "#pen = penalidades.astype(dtype).merge(cnpj.astype(dtype), 'left')\n",
    "#pen.tail()"
   ]
  },
  {
   "cell_type": "code",
   "execution_count": 18,
   "metadata": {},
   "outputs": [],
   "source": [
    "# Integra os dados de penalidades e de cnpj (receita federal)\n",
    "pen = pd.merge(penalidades, cnpj, on='cnpj', how='left')"
   ]
  },
  {
   "cell_type": "code",
   "execution_count": 19,
   "metadata": {},
   "outputs": [],
   "source": [
    "# Valores Nulos\n",
    "pen.isna().sum();"
   ]
  },
  {
   "cell_type": "code",
   "execution_count": 20,
   "metadata": {},
   "outputs": [],
   "source": [
    "# Filtra onde tem NA\n",
    "pen[pen['razao_social'].isnull()].head();"
   ]
  },
  {
   "cell_type": "code",
   "execution_count": 21,
   "metadata": {},
   "outputs": [],
   "source": [
    "# Confere se todos nulos são pessoa fisica\n",
    "pen2 = pen[pen['razao_social'].isnull()].head()\n",
    "\n",
    "# Retorna a qtd de caracteres da maior string de cnpj\n",
    "pen2['cnpj'] = pen2.cnpj.astype(str)\n",
    "pen2.cnpj.str.len().max();"
   ]
  },
  {
   "cell_type": "code",
   "execution_count": 22,
   "metadata": {},
   "outputs": [],
   "source": [
    "# Remove os CPFs, sao as penalidades onde o CNPJ tem 11 digitos (é um CPF) e nao foi encontrado no CNPJ\n",
    "pen = pen.dropna(subset=['razao_social'])\n",
    "pen.shape;"
   ]
  },
  {
   "cell_type": "code",
   "execution_count": 23,
   "metadata": {
    "scrolled": true
   },
   "outputs": [],
   "source": [
    "# Valores Nulos\n",
    "pen.isna().sum();"
   ]
  },
  {
   "cell_type": "code",
   "execution_count": 24,
   "metadata": {},
   "outputs": [
    {
     "name": "stdout",
     "output_type": "stream",
     "text": [
      "<class 'pandas.core.frame.DataFrame'>\n",
      "Int64Index: 16867 entries, 0 to 23304\n",
      "Data columns (total 15 columns):\n",
      "cnpj                        16867 non-null int64\n",
      "nome                        16867 non-null object\n",
      "penalidade                  16867 non-null object\n",
      "sancionador                 16025 non-null object\n",
      "motivo                      16867 non-null object\n",
      "dataInicio                  16867 non-null object\n",
      "dataFim                     14865 non-null object\n",
      "origem                      16867 non-null object\n",
      "razao_social                16867 non-null object\n",
      "situacao_cadastral          16867 non-null float64\n",
      "codigo_natureza_juridica    16867 non-null float64\n",
      "data_inicio_atividade       16867 non-null object\n",
      "cnae_fiscal                 16867 non-null float64\n",
      "uf                          16867 non-null object\n",
      "porte_empresa               16867 non-null float64\n",
      "dtypes: float64(4), int64(1), object(10)\n",
      "memory usage: 2.1+ MB\n"
     ]
    }
   ],
   "source": [
    "pen.info()"
   ]
  },
  {
   "cell_type": "code",
   "execution_count": 25,
   "metadata": {},
   "outputs": [],
   "source": [
    "# Salva o dataset de penalidades separado por TAB\n",
    "pen.to_csv('dados/pen.csv', sep = '\\t', index=False)"
   ]
  },
  {
   "cell_type": "markdown",
   "metadata": {},
   "source": [
    "## Integração com a descrição do CNAE"
   ]
  },
  {
   "cell_type": "code",
   "execution_count": 26,
   "metadata": {},
   "outputs": [
    {
     "data": {
      "text/html": [
       "<div>\n",
       "<style scoped>\n",
       "    .dataframe tbody tr th:only-of-type {\n",
       "        vertical-align: middle;\n",
       "    }\n",
       "\n",
       "    .dataframe tbody tr th {\n",
       "        vertical-align: top;\n",
       "    }\n",
       "\n",
       "    .dataframe thead th {\n",
       "        text-align: right;\n",
       "    }\n",
       "</style>\n",
       "<table border=\"1\" class=\"dataframe\">\n",
       "  <thead>\n",
       "    <tr style=\"text-align: right;\">\n",
       "      <th></th>\n",
       "      <th>id_cnae</th>\n",
       "      <th>dsc_cnae</th>\n",
       "      <th>cod_cnae_longo</th>\n",
       "    </tr>\n",
       "  </thead>\n",
       "  <tbody>\n",
       "    <tr>\n",
       "      <th>0</th>\n",
       "      <td>111301</td>\n",
       "      <td>CULTIVO DE ARROZ</td>\n",
       "      <td>0111-3/01</td>\n",
       "    </tr>\n",
       "    <tr>\n",
       "      <th>1</th>\n",
       "      <td>111302</td>\n",
       "      <td>CULTIVO DE MILHO</td>\n",
       "      <td>0111-3/02</td>\n",
       "    </tr>\n",
       "    <tr>\n",
       "      <th>2</th>\n",
       "      <td>111303</td>\n",
       "      <td>CULTIVO DE TRIGO</td>\n",
       "      <td>0111-3/03</td>\n",
       "    </tr>\n",
       "    <tr>\n",
       "      <th>3</th>\n",
       "      <td>111399</td>\n",
       "      <td>CULTIVO DE OUTROS CEREAIS NÃO ESPECIFICADOS AN...</td>\n",
       "      <td>0111-3/99</td>\n",
       "    </tr>\n",
       "    <tr>\n",
       "      <th>4</th>\n",
       "      <td>112101</td>\n",
       "      <td>CULTIVO DE ALGODÃO HERBÁCEO</td>\n",
       "      <td>0112-1/01</td>\n",
       "    </tr>\n",
       "  </tbody>\n",
       "</table>\n",
       "</div>"
      ],
      "text/plain": [
       "   id_cnae                                           dsc_cnae cod_cnae_longo\n",
       "0   111301                                   CULTIVO DE ARROZ      0111-3/01\n",
       "1   111302                                   CULTIVO DE MILHO      0111-3/02\n",
       "2   111303                                   CULTIVO DE TRIGO      0111-3/03\n",
       "3   111399  CULTIVO DE OUTROS CEREAIS NÃO ESPECIFICADOS AN...      0111-3/99\n",
       "4   112101                        CULTIVO DE ALGODÃO HERBÁCEO      0112-1/01"
      ]
     },
     "execution_count": 26,
     "metadata": {},
     "output_type": "execute_result"
    }
   ],
   "source": [
    "import pandas as pd\n",
    "cnae = pd.read_csv('dados/cnae_201905141833.csv', sep=';')\n",
    "cnae.head()"
   ]
  },
  {
   "cell_type": "code",
   "execution_count": 27,
   "metadata": {},
   "outputs": [],
   "source": [
    "pen['id_cnae'] = pd.to_numeric(pen.cnae_fiscal, downcast='integer')"
   ]
  },
  {
   "cell_type": "code",
   "execution_count": 28,
   "metadata": {},
   "outputs": [],
   "source": [
    "pen = pd.merge(pen, cnae)"
   ]
  },
  {
   "cell_type": "code",
   "execution_count": 29,
   "metadata": {},
   "outputs": [
    {
     "data": {
      "text/html": [
       "<div>\n",
       "<style scoped>\n",
       "    .dataframe tbody tr th:only-of-type {\n",
       "        vertical-align: middle;\n",
       "    }\n",
       "\n",
       "    .dataframe tbody tr th {\n",
       "        vertical-align: top;\n",
       "    }\n",
       "\n",
       "    .dataframe thead th {\n",
       "        text-align: right;\n",
       "    }\n",
       "</style>\n",
       "<table border=\"1\" class=\"dataframe\">\n",
       "  <thead>\n",
       "    <tr style=\"text-align: right;\">\n",
       "      <th></th>\n",
       "      <th>cnpj</th>\n",
       "      <th>nome</th>\n",
       "      <th>penalidade</th>\n",
       "      <th>sancionador</th>\n",
       "      <th>motivo</th>\n",
       "      <th>dataInicio</th>\n",
       "      <th>dataFim</th>\n",
       "      <th>origem</th>\n",
       "      <th>razao_social</th>\n",
       "      <th>situacao_cadastral</th>\n",
       "      <th>codigo_natureza_juridica</th>\n",
       "      <th>data_inicio_atividade</th>\n",
       "      <th>uf</th>\n",
       "      <th>porte_empresa</th>\n",
       "      <th>dsc_cnae</th>\n",
       "    </tr>\n",
       "  </thead>\n",
       "  <tbody>\n",
       "    <tr>\n",
       "      <th>0</th>\n",
       "      <td>2216853000190</td>\n",
       "      <td>FERNANDO ABDALA ADVOGADOS &amp; ASSOCIADOS S/C LTDA</td>\n",
       "      <td>Multa prevista Cláusula 17ª, Item 17.1.6, Cont...</td>\n",
       "      <td>MINISTERIO DO PLANEJAMENTO,DESENV. E GESTÃO</td>\n",
       "      <td>ATENDENDO DETERMINACAO CONTIDA NO OFICIO 158/2...</td>\n",
       "      <td>09/10/2008</td>\n",
       "      <td></td>\n",
       "      <td>SICAF</td>\n",
       "      <td>FERNANDO ABDALA ADVOGADOS &amp; ASSOCIADOS S/C LTDA</td>\n",
       "      <td>2.0</td>\n",
       "      <td>2062.0</td>\n",
       "      <td>1997-10-22</td>\n",
       "      <td>RJ</td>\n",
       "      <td>3.0</td>\n",
       "      <td>SERVIÇOS ADVOCATÍCIOS</td>\n",
       "    </tr>\n",
       "    <tr>\n",
       "      <th>1</th>\n",
       "      <td>2216853000190</td>\n",
       "      <td>FERNANDO ABDALA ADVOGADOS &amp; ASSOCIADOS S/C LTDA</td>\n",
       "      <td>inexecução parcial da Nota de Empenho 2017NE04315</td>\n",
       "      <td>MINISTERIO DO PLANEJAMENTO,DESENV. E GESTÃO</td>\n",
       "      <td>ATENDENDO DETERMINACAO CONTIDA NO OFICIO 210/2...</td>\n",
       "      <td>06/08/2008</td>\n",
       "      <td>2013-08-06</td>\n",
       "      <td>SICAF</td>\n",
       "      <td>FERNANDO ABDALA ADVOGADOS &amp; ASSOCIADOS S/C LTDA</td>\n",
       "      <td>2.0</td>\n",
       "      <td>2062.0</td>\n",
       "      <td>1997-10-22</td>\n",
       "      <td>RJ</td>\n",
       "      <td>3.0</td>\n",
       "      <td>SERVIÇOS ADVOCATÍCIOS</td>\n",
       "    </tr>\n",
       "    <tr>\n",
       "      <th>2</th>\n",
       "      <td>1119125000106</td>\n",
       "      <td>BARBOUR SILVA E ADVOGADOS ASSOCIADOS S/C</td>\n",
       "      <td>inexecução parcial da Nota de Empenho 2017NE04315</td>\n",
       "      <td>MINISTERIO DO PLANEJAMENTO,DESENV. E GESTÃO</td>\n",
       "      <td>Proibido de contratar com o poder público ou r...</td>\n",
       "      <td>30/10/2008</td>\n",
       "      <td>2011-10-30</td>\n",
       "      <td>SICAF</td>\n",
       "      <td>BARBOUR SILVA E ADVOGADOS ASSOCIADOS S/C</td>\n",
       "      <td>8.0</td>\n",
       "      <td>2240.0</td>\n",
       "      <td>1995-09-18</td>\n",
       "      <td>SP</td>\n",
       "      <td>5.0</td>\n",
       "      <td>SERVIÇOS ADVOCATÍCIOS</td>\n",
       "    </tr>\n",
       "    <tr>\n",
       "      <th>3</th>\n",
       "      <td>2702073000150</td>\n",
       "      <td>MOURAO E ASSOCIADOS</td>\n",
       "      <td>Conforme inciso X. art.6º do Decreto Estadual ...</td>\n",
       "      <td>JUSTICA ELEITORAL</td>\n",
       "      <td>Aplicação da sanção de proibição de participar...</td>\n",
       "      <td>29/11/2011</td>\n",
       "      <td>2016-11-28</td>\n",
       "      <td>SICAF</td>\n",
       "      <td>MOURAO E ASSOCIADOS</td>\n",
       "      <td>2.0</td>\n",
       "      <td>2232.0</td>\n",
       "      <td>1996-05-14</td>\n",
       "      <td>MG</td>\n",
       "      <td>3.0</td>\n",
       "      <td>SERVIÇOS ADVOCATÍCIOS</td>\n",
       "    </tr>\n",
       "    <tr>\n",
       "      <th>4</th>\n",
       "      <td>2338563000110</td>\n",
       "      <td>VANESSA RIBEIRO ADVOGADOS - ME</td>\n",
       "      <td>Suspensão temporária e Impedimento de contrata...</td>\n",
       "      <td>BANCO DO NORDESTE DO BRASIL</td>\n",
       "      <td>O contratado não satisfez as condições necessá...</td>\n",
       "      <td>10/12/2012</td>\n",
       "      <td>2014-12-09</td>\n",
       "      <td>SICAF</td>\n",
       "      <td>VANESSA RIBEIRO ADVOGADOS</td>\n",
       "      <td>4.0</td>\n",
       "      <td>2232.0</td>\n",
       "      <td>1998-01-27</td>\n",
       "      <td>PB</td>\n",
       "      <td>5.0</td>\n",
       "      <td>SERVIÇOS ADVOCATÍCIOS</td>\n",
       "    </tr>\n",
       "  </tbody>\n",
       "</table>\n",
       "</div>"
      ],
      "text/plain": [
       "            cnpj                                             nome  \\\n",
       "0  2216853000190  FERNANDO ABDALA ADVOGADOS & ASSOCIADOS S/C LTDA   \n",
       "1  2216853000190  FERNANDO ABDALA ADVOGADOS & ASSOCIADOS S/C LTDA   \n",
       "2  1119125000106         BARBOUR SILVA E ADVOGADOS ASSOCIADOS S/C   \n",
       "3  2702073000150                              MOURAO E ASSOCIADOS   \n",
       "4  2338563000110                   VANESSA RIBEIRO ADVOGADOS - ME   \n",
       "\n",
       "                                          penalidade  \\\n",
       "0  Multa prevista Cláusula 17ª, Item 17.1.6, Cont...   \n",
       "1  inexecução parcial da Nota de Empenho 2017NE04315   \n",
       "2  inexecução parcial da Nota de Empenho 2017NE04315   \n",
       "3  Conforme inciso X. art.6º do Decreto Estadual ...   \n",
       "4  Suspensão temporária e Impedimento de contrata...   \n",
       "\n",
       "                                   sancionador  \\\n",
       "0  MINISTERIO DO PLANEJAMENTO,DESENV. E GESTÃO   \n",
       "1  MINISTERIO DO PLANEJAMENTO,DESENV. E GESTÃO   \n",
       "2  MINISTERIO DO PLANEJAMENTO,DESENV. E GESTÃO   \n",
       "3                            JUSTICA ELEITORAL   \n",
       "4                  BANCO DO NORDESTE DO BRASIL   \n",
       "\n",
       "                                              motivo  dataInicio     dataFim  \\\n",
       "0  ATENDENDO DETERMINACAO CONTIDA NO OFICIO 158/2...  09/10/2008               \n",
       "1  ATENDENDO DETERMINACAO CONTIDA NO OFICIO 210/2...  06/08/2008  2013-08-06   \n",
       "2  Proibido de contratar com o poder público ou r...  30/10/2008  2011-10-30   \n",
       "3  Aplicação da sanção de proibição de participar...  29/11/2011  2016-11-28   \n",
       "4  O contratado não satisfez as condições necessá...  10/12/2012  2014-12-09   \n",
       "\n",
       "  origem                                     razao_social  situacao_cadastral  \\\n",
       "0  SICAF  FERNANDO ABDALA ADVOGADOS & ASSOCIADOS S/C LTDA                 2.0   \n",
       "1  SICAF  FERNANDO ABDALA ADVOGADOS & ASSOCIADOS S/C LTDA                 2.0   \n",
       "2  SICAF         BARBOUR SILVA E ADVOGADOS ASSOCIADOS S/C                 8.0   \n",
       "3  SICAF                              MOURAO E ASSOCIADOS                 2.0   \n",
       "4  SICAF                        VANESSA RIBEIRO ADVOGADOS                 4.0   \n",
       "\n",
       "   codigo_natureza_juridica data_inicio_atividade  uf  porte_empresa  \\\n",
       "0                    2062.0            1997-10-22  RJ            3.0   \n",
       "1                    2062.0            1997-10-22  RJ            3.0   \n",
       "2                    2240.0            1995-09-18  SP            5.0   \n",
       "3                    2232.0            1996-05-14  MG            3.0   \n",
       "4                    2232.0            1998-01-27  PB            5.0   \n",
       "\n",
       "                dsc_cnae  \n",
       "0  SERVIÇOS ADVOCATÍCIOS  \n",
       "1  SERVIÇOS ADVOCATÍCIOS  \n",
       "2  SERVIÇOS ADVOCATÍCIOS  \n",
       "3  SERVIÇOS ADVOCATÍCIOS  \n",
       "4  SERVIÇOS ADVOCATÍCIOS  "
      ]
     },
     "execution_count": 29,
     "metadata": {},
     "output_type": "execute_result"
    }
   ],
   "source": [
    "pen.drop(['cod_cnae_longo', 'id_cnae', 'cnae_fiscal'], 1, inplace=True)\n",
    "pen.head()"
   ]
  },
  {
   "cell_type": "markdown",
   "metadata": {},
   "source": [
    "# 3. Análise Exploratória\n",
    "1. Quantidade de empresas no Brasil segundo a RFB. Empresas penalizadas x Empresas Ativas \n",
    "2. Quantidade de empresas no SICAF x Empresas penalizadas no SICAF\n",
    "3. Ranking das Empresas mais Penalizadas por Porte da Empresa\n",
    "4. Ranking de registros de penalidades por Origem (Sistema de Penalidades)\n",
    "5. Quem faz o registro de penalidades no SICAF, também faz no CEIS? \n",
    "6. Quais são os órgãos que mais aplicam penalidades;\n",
    "7. As legislações mais aplicadas em penalidades;\n",
    "8. Ranking das penalidades mais aplicadas (impedimento, multas, suspensão);\n",
    "9. Penalidades por mês e ano: Quando acontecem mais penalidades? \n",
    "10. Quantidade de penalidades por natureza jurídica;\n",
    "11. Quais tipos de serviços (CNAE) que sofreram mais penalidades?\n",
    "12. Top Empresas mais Penalizadas\n",
    "13. Empresas mais penalizadas por UF\n",
    "14. Foram dados prazos diferentes para a mesma penalidade?"
   ]
  },
  {
   "cell_type": "code",
   "execution_count": 30,
   "metadata": {},
   "outputs": [],
   "source": [
    "import seaborn as sns\n",
    "from matplotlib.pyplot import suptitle\n",
    "import matplotlib.pyplot as plt"
   ]
  },
  {
   "cell_type": "markdown",
   "metadata": {
    "slideshow": {
     "slide_type": "slide"
    }
   },
   "source": [
    "## 1. Quantidade de empresas no Brasil e Proporção de Penalidades"
   ]
  },
  {
   "cell_type": "markdown",
   "metadata": {
    "slideshow": {
     "slide_type": "subslide"
    }
   },
   "source": [
    "#### Status da Empresa - Situação Cadastral\n",
    "* 2 - ATIVA    (18 milhões de empresas ativas)\n",
    "* 8 - BAIXADA\n",
    "* 4 - INAPTA\n",
    "* 3 - SUSPENSA\n",
    "* 1 - NULA"
   ]
  },
  {
   "cell_type": "code",
   "execution_count": 31,
   "metadata": {
    "slideshow": {
     "slide_type": "subslide"
    }
   },
   "outputs": [
    {
     "data": {
      "text/plain": [
       "2    18240895\n",
       "8    18124506\n",
       "4     3574947\n",
       "3      167790\n",
       "1       76023\n",
       "Name: situacao_cadastral, dtype: int64"
      ]
     },
     "execution_count": 31,
     "metadata": {},
     "output_type": "execute_result"
    }
   ],
   "source": [
    "cnpj.situacao_cadastral.value_counts()"
   ]
  },
  {
   "cell_type": "markdown",
   "metadata": {
    "slideshow": {
     "slide_type": "-"
    }
   },
   "source": [
    "#### Proporção de Empresas Penalizadas pelo Total de Empresas na RFB"
   ]
  },
  {
   "cell_type": "code",
   "execution_count": 32,
   "metadata": {},
   "outputs": [
    {
     "data": {
      "text/plain": [
       "10042"
      ]
     },
     "execution_count": 32,
     "metadata": {},
     "output_type": "execute_result"
    }
   ],
   "source": [
    "# Quantidade de CNPJs únicos totais penalizados\n",
    "len(pen.cnpj.unique())"
   ]
  },
  {
   "cell_type": "code",
   "execution_count": 33,
   "metadata": {},
   "outputs": [
    {
     "data": {
      "text/plain": [
       "40184161"
      ]
     },
     "execution_count": 33,
     "metadata": {},
     "output_type": "execute_result"
    }
   ],
   "source": [
    "# Quantidade total de CNPJs\n",
    "len(cnpj.cnpj.unique())"
   ]
  },
  {
   "cell_type": "code",
   "execution_count": 34,
   "metadata": {},
   "outputs": [
    {
     "data": {
      "text/plain": [
       "0.024989945665407822"
      ]
     },
     "execution_count": 34,
     "metadata": {},
     "output_type": "execute_result"
    }
   ],
   "source": [
    "# Percentual de empresas penalisadas de acordo com a qtd total de empresas: 3%\n",
    "(len(pen.cnpj.unique()) * 100) / len(cnpj.cnpj.unique())"
   ]
  },
  {
   "cell_type": "code",
   "execution_count": 35,
   "metadata": {},
   "outputs": [
    {
     "data": {
      "text/plain": [
       "0.05505212326478498"
      ]
     },
     "execution_count": 35,
     "metadata": {},
     "output_type": "execute_result"
    }
   ],
   "source": [
    "# Percentual de empresas penalisadas de acordo com a qtd de empresas ativas na RFB: 8%\n",
    "(len(pen.cnpj.unique()) * 100) / len(cnpj.loc[cnpj['situacao_cadastral'] == 2])"
   ]
  },
  {
   "cell_type": "code",
   "execution_count": 36,
   "metadata": {},
   "outputs": [
    {
     "data": {
      "text/plain": [
       "18230893"
      ]
     },
     "execution_count": 36,
     "metadata": {},
     "output_type": "execute_result"
    }
   ],
   "source": [
    "# Total de empresas ativas na RFB - total de empresas penalizadas nos sistemas analisados\n",
    "18240895-10002"
   ]
  },
  {
   "cell_type": "code",
   "execution_count": 37,
   "metadata": {},
   "outputs": [
    {
     "data": {
      "image/png": "[encoded data removed]",
      "text/plain": [
       "<Figure size 432x288 with 1 Axes>"
      ]
     },
     "metadata": {},
     "output_type": "display_data"
    }
   ],
   "source": [
    "labels = ['Total de Empresas Ativas na RFB (18 milhões de Empresas)', \n",
    "          'Empresas Penalizadas em todos os Sistemas Analisados (10 mil Empresas Penalizadas)']\n",
    "sizes = [18230893,10042]\n",
    "fig1, ax1 = plt.subplots()\n",
    "ax1.pie(sizes, labels=labels, autopct='%1.1f%%', startangle=90)\n",
    "ax1.axis('equal')  \n",
    "plt.tight_layout()\n",
    "plt.show()"
   ]
  },
  {
   "cell_type": "markdown",
   "metadata": {},
   "source": [
    "## 2. Quantidade de empresas no SICAF x Empresas penalizadas no SICAF"
   ]
  },
  {
   "cell_type": "code",
   "execution_count": 38,
   "metadata": {},
   "outputs": [
    {
     "data": {
      "text/plain": [
       "0.0001958237246582473"
      ]
     },
     "execution_count": 38,
     "metadata": {},
     "output_type": "execute_result"
    }
   ],
   "source": [
    "# Percentual de empresas penalisadas no SICAF de acordo com a qtd de empresas ativas na RFB: \n",
    "(len(pen.loc[pen['origem'] == 'SICAF'])) / len(cnpj.loc[cnpj['situacao_cadastral'] == 2])"
   ]
  },
  {
   "cell_type": "code",
   "execution_count": 39,
   "metadata": {},
   "outputs": [
    {
     "data": {
      "text/plain": [
       "0.013313355845278827"
      ]
     },
     "execution_count": 39,
     "metadata": {},
     "output_type": "execute_result"
    }
   ],
   "source": [
    "# Percentual de empresas penalisadas no SICAF de acordo com a qtd de empresas no SICAF: \n",
    "# Quantidade de empresas (pessoa jurídica) no SICAF: 268.302\n",
    "total_empresas_sicaf = 268302\n",
    "(len(pen.loc[pen['origem'] == 'SICAF'])) / total_empresas_sicaf"
   ]
  },
  {
   "cell_type": "code",
   "execution_count": 40,
   "metadata": {},
   "outputs": [
    {
     "data": {
      "text/plain": [
       "264730"
      ]
     },
     "execution_count": 40,
     "metadata": {},
     "output_type": "execute_result"
    }
   ],
   "source": [
    "# Total de empresas no SICAF - empresas penalizadas no SICAF\n",
    "268302 - 3572"
   ]
  },
  {
   "cell_type": "code",
   "execution_count": 41,
   "metadata": {},
   "outputs": [
    {
     "data": {
      "image/png": "[encoded data removed]",
      "text/plain": [
       "<Figure size 432x288 with 1 Axes>"
      ]
     },
     "metadata": {},
     "output_type": "display_data"
    }
   ],
   "source": [
    "labels = ['Total de Empresas no SICAF (268 mil Empresas)', 'Empresas Penalizadas no SICAF (3 mil Empresas Penalizadas)']\n",
    "sizes = [264730,3572]\n",
    "fig1, ax1 = plt.subplots()\n",
    "ax1.pie(sizes, labels=labels, autopct='%1.1f%%', startangle=90)\n",
    "ax1.axis('equal')  \n",
    "plt.tight_layout()\n",
    "plt.show()"
   ]
  },
  {
   "cell_type": "markdown",
   "metadata": {},
   "source": [
    "## 3. Penalidades por Porte da Empresa\n",
    "* 01 - MICRO EMPRESA\n",
    "* 05 - DEMAIS\n",
    "* 03 - EMPRESA DE PEQUENO PORTE\n",
    "* 00 - NAO INFORMADO"
   ]
  },
  {
   "cell_type": "code",
   "execution_count": 42,
   "metadata": {},
   "outputs": [
    {
     "data": {
      "text/plain": [
       "1.0    25011688\n",
       "5.0    13960818\n",
       "3.0     1160731\n",
       "0.0       50921\n",
       "Name: porte_empresa, dtype: int64"
      ]
     },
     "execution_count": 42,
     "metadata": {},
     "output_type": "execute_result"
    }
   ],
   "source": [
    "cnpj.porte_empresa.value_counts()"
   ]
  },
  {
   "cell_type": "code",
   "execution_count": 43,
   "metadata": {},
   "outputs": [],
   "source": [
    "pen.porte_empresa.value_counts();"
   ]
  },
  {
   "cell_type": "code",
   "execution_count": 44,
   "metadata": {},
   "outputs": [],
   "source": [
    "# Penalidades por Porte\n",
    "pd.concat([pen.porte_empresa.value_counts(), \n",
    "                pen.porte_empresa.value_counts(normalize=True).mul(100)],axis=1, keys=('counts','percentage'));"
   ]
  },
  {
   "cell_type": "code",
   "execution_count": 45,
   "metadata": {},
   "outputs": [
    {
     "data": {
      "image/png": "[encoded data removed]",
      "text/plain": [
       "<Figure size 720x432 with 1 Axes>"
      ]
     },
     "metadata": {
      "needs_background": "light"
     },
     "output_type": "display_data"
    }
   ],
   "source": [
    "descending_order = pen.porte_empresa.value_counts().sort_values(ascending=False).index\n",
    "\n",
    "plt.figure(figsize=(10, 6));\n",
    "sns.set(style=\"darkgrid\")\n",
    "suptitle(\"Empresas mais Penalizadas por Porte\")\n",
    "ax = sns.countplot(x=\"porte_empresa\", data=pen, order=descending_order)\n",
    "ax.set_xticklabels([\"Demais\",\"Micro Empresa\",\"Pequeno Porte\"])\n",
    "ax.set_xlabel(\"\") # Titulo do Eixo X\n",
    "ax.set_ylabel(\"\") # Titulo do Eixo Y\n",
    "\n",
    "total = len(pen)*1.\n",
    "for p in ax.patches:\n",
    "        ax.annotate('{:.1f}%'.format(100*p.get_height()/total), (p.get_x()+0.1, p.get_height()+5))\n",
    "\n",
    "#put 11 ticks (therefore 10 steps), from 0 to the total number of rows in the dataframe\n",
    "#ax.yaxis.set_ticks(np.linspace(0, total, 11))\n",
    "\n",
    "#adjust the ticklabel to the desired format, without changing the position of the ticks. \n",
    "_ = ax.set_yticklabels(map('{:.1f}%'.format, 100*ax.yaxis.get_majorticklocs()/total))"
   ]
  },
  {
   "cell_type": "markdown",
   "metadata": {},
   "source": [
    "## 4. Ranking de registros de penalidades por Origem (Sistema de Penalidades)"
   ]
  },
  {
   "cell_type": "code",
   "execution_count": 46,
   "metadata": {},
   "outputs": [
    {
     "data": {
      "image/png": "[encoded data removed]",
      "text/plain": [
       "<Figure size 1584x576 with 1 Axes>"
      ]
     },
     "metadata": {},
     "output_type": "display_data"
    }
   ],
   "source": [
    "# 1. Penalidades por Origem\n",
    "descending_order = pen.origem.value_counts().sort_values(ascending=False).index\n",
    "\n",
    "plt.figure(figsize=(22, 8));\n",
    "#sns.set(style=\"darkgrid\")\n",
    "suptitle(\"Ranking do Registro de Penalidades por Origem\")\n",
    "ax = sns.countplot(x=\"origem\", data=pen, order=descending_order)\n",
    "#ax.set_xticklabels([\"Demais\",\"Micro Empresa\",\"Pequeno Porte\"])\n",
    "ax.set_xlabel(\"\") # Titulo do Eixo X\n",
    "ax.set_ylabel(\"\") # Titulo do Eixo Y\n",
    "\n",
    "total = len(pen)*1.\n",
    "#for p in ax.patches:\n",
    "#    ax.annotate('{:.1f}%'.format(100*p.get_height()/total), (p.get_x()+0.1, p.get_height()+5), ha=\"right\")\n",
    "        \n",
    "for p in ax.patches:\n",
    "    ax.annotate(str(p.get_height()), (p.get_x() * 1.005, p.get_height() * 1.005))\n",
    "\n",
    "#put 11 ticks (therefore 10 steps), from 0 to the total number of rows in the dataframe\n",
    "#ax.yaxis.set_ticks(np.linspace(0, total, 11))\n",
    "\n",
    "#adjust the ticklabel to the desired format, without changing the position of the ticks. \n",
    "_ = ax.set_yticklabels(map('{:.1f}%'.format, 100*ax.yaxis.get_majorticklocs()/total))"
   ]
  },
  {
   "cell_type": "markdown",
   "metadata": {},
   "source": [
    "## 5. Quem faz o registro de penalidades no SICAF, também faz no CEIS ou CEPIM?\n",
    "Os registros de penalidades são feitos em mais de um sistema? \n",
    "* CEIS - Cadastro de Empresas Inidoneas e Suspensas\n",
    "* CEPIM - Cadastr de Entidades Privadas Sem Fins Lucrativos Impedidas"
   ]
  },
  {
   "cell_type": "code",
   "execution_count": 47,
   "metadata": {},
   "outputs": [
    {
     "data": {
      "text/plain": [
       "cnpj\n",
       "30834196000180    4\n",
       "531541000146      3\n",
       "62277207000165    3\n",
       "8599961000176     3\n",
       "5667996000107     3\n",
       "Name: origem, dtype: int64"
      ]
     },
     "execution_count": 47,
     "metadata": {},
     "output_type": "execute_result"
    }
   ],
   "source": [
    "# Filtra penalidades de empresas que tiveram mais de uma origem (sistema de cadastro de penalidades)\n",
    "pen.groupby('cnpj')['origem'].nunique().sort_values(ascending=False).head()"
   ]
  },
  {
   "cell_type": "code",
   "execution_count": 48,
   "metadata": {},
   "outputs": [
    {
     "data": {
      "text/html": [
       "<div>\n",
       "<style scoped>\n",
       "    .dataframe tbody tr th:only-of-type {\n",
       "        vertical-align: middle;\n",
       "    }\n",
       "\n",
       "    .dataframe tbody tr th {\n",
       "        vertical-align: top;\n",
       "    }\n",
       "\n",
       "    .dataframe thead th {\n",
       "        text-align: right;\n",
       "    }\n",
       "</style>\n",
       "<table border=\"1\" class=\"dataframe\">\n",
       "  <thead>\n",
       "    <tr style=\"text-align: right;\">\n",
       "      <th></th>\n",
       "      <th>cnpj</th>\n",
       "      <th>nome</th>\n",
       "      <th>penalidade</th>\n",
       "      <th>sancionador</th>\n",
       "      <th>motivo</th>\n",
       "      <th>dataInicio</th>\n",
       "      <th>dataFim</th>\n",
       "      <th>origem</th>\n",
       "      <th>razao_social</th>\n",
       "      <th>situacao_cadastral</th>\n",
       "      <th>codigo_natureza_juridica</th>\n",
       "      <th>data_inicio_atividade</th>\n",
       "      <th>uf</th>\n",
       "      <th>porte_empresa</th>\n",
       "      <th>dsc_cnae</th>\n",
       "    </tr>\n",
       "  </thead>\n",
       "  <tbody>\n",
       "    <tr>\n",
       "      <th>2740</th>\n",
       "      <td>5667996000107</td>\n",
       "      <td>RG COMERCIAL E CONSTRUTORA E TERRAPLANAGEM LTD...</td>\n",
       "      <td>inexecução parcial da Nota de Empenho 2017NE04315</td>\n",
       "      <td>TRIBUNAL DE CONTAS DA UNIAO</td>\n",
       "      <td>Declarada inidônea, com fundamento no art. 46 ...</td>\n",
       "      <td>04/09/2015</td>\n",
       "      <td>2020-09-03</td>\n",
       "      <td>SICAF</td>\n",
       "      <td>RG COMERCIAL E CONSTRUTORA E TERRAPLANAGEM LTDA</td>\n",
       "      <td>2.0</td>\n",
       "      <td>2062.0</td>\n",
       "      <td>2003-05-28</td>\n",
       "      <td>TO</td>\n",
       "      <td>3.0</td>\n",
       "      <td>COMÉRCIO VAREJISTA DE MATERIAIS DE CONSTRUÇÃO ...</td>\n",
       "    </tr>\n",
       "    <tr>\n",
       "      <th>2768</th>\n",
       "      <td>5667996000107</td>\n",
       "      <td>RG COM E CONSTR. E TERRAPLANAGEM LTDA. ME</td>\n",
       "      <td>Inidoneidade - Lei Orgânica TCU</td>\n",
       "      <td>TRIBUNAL DE CONTAS DA UNIÃO</td>\n",
       "      <td>Art. 46, Lei 8443/1992</td>\n",
       "      <td>04/09/2015</td>\n",
       "      <td>04/09/2020</td>\n",
       "      <td>CEIS</td>\n",
       "      <td>RG COMERCIAL E CONSTRUTORA E TERRAPLANAGEM LTDA</td>\n",
       "      <td>2.0</td>\n",
       "      <td>2062.0</td>\n",
       "      <td>2003-05-28</td>\n",
       "      <td>TO</td>\n",
       "      <td>3.0</td>\n",
       "      <td>COMÉRCIO VAREJISTA DE MATERIAIS DE CONSTRUÇÃO ...</td>\n",
       "    </tr>\n",
       "    <tr>\n",
       "      <th>2846</th>\n",
       "      <td>5667996000107</td>\n",
       "      <td>RG CONSTRUTORA/RG COMERCIAL E CONSTRUTORA E TE...</td>\n",
       "      <td>Inidoneo</td>\n",
       "      <td>TCU</td>\n",
       "      <td></td>\n",
       "      <td>04/09/2015</td>\n",
       "      <td>04/09/2020</td>\n",
       "      <td>INIDONEO</td>\n",
       "      <td>RG COMERCIAL E CONSTRUTORA E TERRAPLANAGEM LTDA</td>\n",
       "      <td>2.0</td>\n",
       "      <td>2062.0</td>\n",
       "      <td>2003-05-28</td>\n",
       "      <td>TO</td>\n",
       "      <td>3.0</td>\n",
       "      <td>COMÉRCIO VAREJISTA DE MATERIAIS DE CONSTRUÇÃO ...</td>\n",
       "    </tr>\n",
       "  </tbody>\n",
       "</table>\n",
       "</div>"
      ],
      "text/plain": [
       "               cnpj                                               nome  \\\n",
       "2740  5667996000107  RG COMERCIAL E CONSTRUTORA E TERRAPLANAGEM LTD...   \n",
       "2768  5667996000107          RG COM E CONSTR. E TERRAPLANAGEM LTDA. ME   \n",
       "2846  5667996000107  RG CONSTRUTORA/RG COMERCIAL E CONSTRUTORA E TE...   \n",
       "\n",
       "                                             penalidade  \\\n",
       "2740  inexecução parcial da Nota de Empenho 2017NE04315   \n",
       "2768                    Inidoneidade - Lei Orgânica TCU   \n",
       "2846                                           Inidoneo   \n",
       "\n",
       "                      sancionador  \\\n",
       "2740  TRIBUNAL DE CONTAS DA UNIAO   \n",
       "2768  TRIBUNAL DE CONTAS DA UNIÃO   \n",
       "2846                          TCU   \n",
       "\n",
       "                                                 motivo  dataInicio  \\\n",
       "2740  Declarada inidônea, com fundamento no art. 46 ...  04/09/2015   \n",
       "2768                             Art. 46, Lei 8443/1992  04/09/2015   \n",
       "2846                                                     04/09/2015   \n",
       "\n",
       "         dataFim    origem                                     razao_social  \\\n",
       "2740  2020-09-03     SICAF  RG COMERCIAL E CONSTRUTORA E TERRAPLANAGEM LTDA   \n",
       "2768  04/09/2020      CEIS  RG COMERCIAL E CONSTRUTORA E TERRAPLANAGEM LTDA   \n",
       "2846  04/09/2020  INIDONEO  RG COMERCIAL E CONSTRUTORA E TERRAPLANAGEM LTDA   \n",
       "\n",
       "      situacao_cadastral  codigo_natureza_juridica data_inicio_atividade  uf  \\\n",
       "2740                 2.0                    2062.0            2003-05-28  TO   \n",
       "2768                 2.0                    2062.0            2003-05-28  TO   \n",
       "2846                 2.0                    2062.0            2003-05-28  TO   \n",
       "\n",
       "      porte_empresa                                           dsc_cnae  \n",
       "2740            3.0  COMÉRCIO VAREJISTA DE MATERIAIS DE CONSTRUÇÃO ...  \n",
       "2768            3.0  COMÉRCIO VAREJISTA DE MATERIAIS DE CONSTRUÇÃO ...  \n",
       "2846            3.0  COMÉRCIO VAREJISTA DE MATERIAIS DE CONSTRUÇÃO ...  "
      ]
     },
     "execution_count": 48,
     "metadata": {},
     "output_type": "execute_result"
    }
   ],
   "source": [
    "# Registro nos 3 sistemas. Empresa. SICAF - CEIS - INIDONEO\n",
    "pen.loc[pen['cnpj'] == 5667996000107]"
   ]
  },
  {
   "cell_type": "code",
   "execution_count": 49,
   "metadata": {},
   "outputs": [
    {
     "data": {
      "text/html": [
       "<div>\n",
       "<style scoped>\n",
       "    .dataframe tbody tr th:only-of-type {\n",
       "        vertical-align: middle;\n",
       "    }\n",
       "\n",
       "    .dataframe tbody tr th {\n",
       "        vertical-align: top;\n",
       "    }\n",
       "\n",
       "    .dataframe thead th {\n",
       "        text-align: right;\n",
       "    }\n",
       "</style>\n",
       "<table border=\"1\" class=\"dataframe\">\n",
       "  <thead>\n",
       "    <tr style=\"text-align: right;\">\n",
       "      <th></th>\n",
       "      <th>cnpj</th>\n",
       "      <th>nome</th>\n",
       "      <th>penalidade</th>\n",
       "      <th>sancionador</th>\n",
       "      <th>motivo</th>\n",
       "      <th>dataInicio</th>\n",
       "      <th>dataFim</th>\n",
       "      <th>origem</th>\n",
       "      <th>razao_social</th>\n",
       "      <th>situacao_cadastral</th>\n",
       "      <th>codigo_natureza_juridica</th>\n",
       "      <th>data_inicio_atividade</th>\n",
       "      <th>uf</th>\n",
       "      <th>porte_empresa</th>\n",
       "      <th>dsc_cnae</th>\n",
       "    </tr>\n",
       "  </thead>\n",
       "  <tbody>\n",
       "    <tr>\n",
       "      <th>9071</th>\n",
       "      <td>37114485000154</td>\n",
       "      <td>ASSOCIACAO BRASILEIRA DE EDUCACAO AGRICOLA SUP...</td>\n",
       "      <td>inexecução parcial da Nota de Empenho 2017NE04315</td>\n",
       "      <td>TRIBUNAL DE CONTAS DA UNIAO</td>\n",
       "      <td>Declarar, com fundamento no art. 46 da Lei 8.4...</td>\n",
       "      <td>06/02/2018</td>\n",
       "      <td>2023-02-05</td>\n",
       "      <td>SICAF</td>\n",
       "      <td>ASSOCIACAO BRASILEIRA DE EDUCACAO AGRICOLA SUP...</td>\n",
       "      <td>4.0</td>\n",
       "      <td>3999.0</td>\n",
       "      <td>1992-03-05</td>\n",
       "      <td>DF</td>\n",
       "      <td>5.0</td>\n",
       "      <td>ATIVIDADES DE ASSOCIAÇÕES DE DEFESA DE DIREITO...</td>\n",
       "    </tr>\n",
       "    <tr>\n",
       "      <th>11901</th>\n",
       "      <td>37114485000154</td>\n",
       "      <td>ASSOCIACAO BRASILEIRA DE EDUCACAO AGRICOLA SUP...</td>\n",
       "      <td>Impedimento</td>\n",
       "      <td>Ministério da Agricultura, Pecuária e Abasteci...</td>\n",
       "      <td>IRREGULARIDADE NA EXECUCAO FIS. E FINANCEIRA</td>\n",
       "      <td></td>\n",
       "      <td></td>\n",
       "      <td>CEPIM</td>\n",
       "      <td>ASSOCIACAO BRASILEIRA DE EDUCACAO AGRICOLA SUP...</td>\n",
       "      <td>4.0</td>\n",
       "      <td>3999.0</td>\n",
       "      <td>1992-03-05</td>\n",
       "      <td>DF</td>\n",
       "      <td>5.0</td>\n",
       "      <td>ATIVIDADES DE ASSOCIAÇÕES DE DEFESA DE DIREITO...</td>\n",
       "    </tr>\n",
       "    <tr>\n",
       "      <th>12700</th>\n",
       "      <td>37114485000154</td>\n",
       "      <td>ABEAS/ASSOCIACAO BRASILEIRA DE EDUCACAO AGRICO...</td>\n",
       "      <td>Inidoneo</td>\n",
       "      <td>TCU</td>\n",
       "      <td></td>\n",
       "      <td>06/02/2018</td>\n",
       "      <td>06/02/2023</td>\n",
       "      <td>INIDONEO</td>\n",
       "      <td>ASSOCIACAO BRASILEIRA DE EDUCACAO AGRICOLA SUP...</td>\n",
       "      <td>4.0</td>\n",
       "      <td>3999.0</td>\n",
       "      <td>1992-03-05</td>\n",
       "      <td>DF</td>\n",
       "      <td>5.0</td>\n",
       "      <td>ATIVIDADES DE ASSOCIAÇÕES DE DEFESA DE DIREITO...</td>\n",
       "    </tr>\n",
       "  </tbody>\n",
       "</table>\n",
       "</div>"
      ],
      "text/plain": [
       "                 cnpj                                               nome  \\\n",
       "9071   37114485000154  ASSOCIACAO BRASILEIRA DE EDUCACAO AGRICOLA SUP...   \n",
       "11901  37114485000154  ASSOCIACAO BRASILEIRA DE EDUCACAO AGRICOLA SUP...   \n",
       "12700  37114485000154  ABEAS/ASSOCIACAO BRASILEIRA DE EDUCACAO AGRICO...   \n",
       "\n",
       "                                              penalidade  \\\n",
       "9071   inexecução parcial da Nota de Empenho 2017NE04315   \n",
       "11901                                        Impedimento   \n",
       "12700                                           Inidoneo   \n",
       "\n",
       "                                             sancionador  \\\n",
       "9071                         TRIBUNAL DE CONTAS DA UNIAO   \n",
       "11901  Ministério da Agricultura, Pecuária e Abasteci...   \n",
       "12700                                                TCU   \n",
       "\n",
       "                                                  motivo  dataInicio  \\\n",
       "9071   Declarar, com fundamento no art. 46 da Lei 8.4...  06/02/2018   \n",
       "11901       IRREGULARIDADE NA EXECUCAO FIS. E FINANCEIRA               \n",
       "12700                                                     06/02/2018   \n",
       "\n",
       "          dataFim    origem  \\\n",
       "9071   2023-02-05     SICAF   \n",
       "11901                 CEPIM   \n",
       "12700  06/02/2023  INIDONEO   \n",
       "\n",
       "                                            razao_social  situacao_cadastral  \\\n",
       "9071   ASSOCIACAO BRASILEIRA DE EDUCACAO AGRICOLA SUP...                 4.0   \n",
       "11901  ASSOCIACAO BRASILEIRA DE EDUCACAO AGRICOLA SUP...                 4.0   \n",
       "12700  ASSOCIACAO BRASILEIRA DE EDUCACAO AGRICOLA SUP...                 4.0   \n",
       "\n",
       "       codigo_natureza_juridica data_inicio_atividade  uf  porte_empresa  \\\n",
       "9071                     3999.0            1992-03-05  DF            5.0   \n",
       "11901                    3999.0            1992-03-05  DF            5.0   \n",
       "12700                    3999.0            1992-03-05  DF            5.0   \n",
       "\n",
       "                                                dsc_cnae  \n",
       "9071   ATIVIDADES DE ASSOCIAÇÕES DE DEFESA DE DIREITO...  \n",
       "11901  ATIVIDADES DE ASSOCIAÇÕES DE DEFESA DE DIREITO...  \n",
       "12700  ATIVIDADES DE ASSOCIAÇÕES DE DEFESA DE DIREITO...  "
      ]
     },
     "execution_count": 49,
     "metadata": {},
     "output_type": "execute_result"
    }
   ],
   "source": [
    "# Registro nos 3 sistemas. ASSOCIACAO. SICAF - CEPIM - INIDONEO\n",
    "pen.loc[pen['cnpj'] == 37114485000154 ]"
   ]
  },
  {
   "cell_type": "code",
   "execution_count": 50,
   "metadata": {},
   "outputs": [
    {
     "data": {
      "text/html": [
       "<div>\n",
       "<style scoped>\n",
       "    .dataframe tbody tr th:only-of-type {\n",
       "        vertical-align: middle;\n",
       "    }\n",
       "\n",
       "    .dataframe tbody tr th {\n",
       "        vertical-align: top;\n",
       "    }\n",
       "\n",
       "    .dataframe thead th {\n",
       "        text-align: right;\n",
       "    }\n",
       "</style>\n",
       "<table border=\"1\" class=\"dataframe\">\n",
       "  <thead>\n",
       "    <tr style=\"text-align: right;\">\n",
       "      <th></th>\n",
       "      <th>cnpj</th>\n",
       "      <th>nome</th>\n",
       "      <th>penalidade</th>\n",
       "      <th>sancionador</th>\n",
       "      <th>motivo</th>\n",
       "      <th>dataInicio</th>\n",
       "      <th>dataFim</th>\n",
       "      <th>origem</th>\n",
       "      <th>razao_social</th>\n",
       "      <th>situacao_cadastral</th>\n",
       "      <th>codigo_natureza_juridica</th>\n",
       "      <th>data_inicio_atividade</th>\n",
       "      <th>uf</th>\n",
       "      <th>porte_empresa</th>\n",
       "      <th>dsc_cnae</th>\n",
       "    </tr>\n",
       "  </thead>\n",
       "  <tbody>\n",
       "    <tr>\n",
       "      <th>11592</th>\n",
       "      <td>5086765000100</td>\n",
       "      <td>ASSOCIACAO BRASILEIRA DAS EMPRESAS DE TRANSPOR...</td>\n",
       "      <td>Impedimento</td>\n",
       "      <td>Ministério do Turismo - Unidades com vínculo d...</td>\n",
       "      <td>INSTAURACAO DE TOMADA DE CONTAS ESPECIAL</td>\n",
       "      <td></td>\n",
       "      <td></td>\n",
       "      <td>CEPIM</td>\n",
       "      <td>ASSOCIACAO BRASILEIRA DAS EMPRESAS DE TRANSPOR...</td>\n",
       "      <td>4.0</td>\n",
       "      <td>3999.0</td>\n",
       "      <td>2002-05-24</td>\n",
       "      <td>DF</td>\n",
       "      <td>5.0</td>\n",
       "      <td>ATIVIDADES DE ASSOCIAÇÕES DE DEFESA DE DIREITO...</td>\n",
       "    </tr>\n",
       "    <tr>\n",
       "      <th>11593</th>\n",
       "      <td>5086765000100</td>\n",
       "      <td>ASSOCIACAO BRASILEIRA DAS EMPRESAS DE TRANSPOR...</td>\n",
       "      <td>Impedimento</td>\n",
       "      <td>Ministério do Turismo - Unidades com vínculo d...</td>\n",
       "      <td>NAO APRESENTACAO DE DOCUMENTACAO COMPLEMENTAR</td>\n",
       "      <td></td>\n",
       "      <td></td>\n",
       "      <td>CEPIM</td>\n",
       "      <td>ASSOCIACAO BRASILEIRA DAS EMPRESAS DE TRANSPOR...</td>\n",
       "      <td>4.0</td>\n",
       "      <td>3999.0</td>\n",
       "      <td>2002-05-24</td>\n",
       "      <td>DF</td>\n",
       "      <td>5.0</td>\n",
       "      <td>ATIVIDADES DE ASSOCIAÇÕES DE DEFESA DE DIREITO...</td>\n",
       "    </tr>\n",
       "    <tr>\n",
       "      <th>11594</th>\n",
       "      <td>5086765000100</td>\n",
       "      <td>ASSOCIACAO BRASILEIRA DAS EMPRESAS DE TRANSPOR...</td>\n",
       "      <td>Impedimento</td>\n",
       "      <td>Ministério do Turismo - Unidades com vínculo d...</td>\n",
       "      <td>IRREGULARIDADE NA EXECUCAO FINANCEIRA</td>\n",
       "      <td></td>\n",
       "      <td></td>\n",
       "      <td>CEPIM</td>\n",
       "      <td>ASSOCIACAO BRASILEIRA DAS EMPRESAS DE TRANSPOR...</td>\n",
       "      <td>4.0</td>\n",
       "      <td>3999.0</td>\n",
       "      <td>2002-05-24</td>\n",
       "      <td>DF</td>\n",
       "      <td>5.0</td>\n",
       "      <td>ATIVIDADES DE ASSOCIAÇÕES DE DEFESA DE DIREITO...</td>\n",
       "    </tr>\n",
       "    <tr>\n",
       "      <th>11595</th>\n",
       "      <td>5086765000100</td>\n",
       "      <td>ASSOCIACAO BRASILEIRA DAS EMPRESAS DE TRANSPOR...</td>\n",
       "      <td>Impedimento</td>\n",
       "      <td>Ministério do Turismo - Unidades com vínculo d...</td>\n",
       "      <td>INSTAURACAO DE TOMADA DE CONTAS ESPECIAL</td>\n",
       "      <td></td>\n",
       "      <td></td>\n",
       "      <td>CEPIM</td>\n",
       "      <td>ASSOCIACAO BRASILEIRA DAS EMPRESAS DE TRANSPOR...</td>\n",
       "      <td>4.0</td>\n",
       "      <td>3999.0</td>\n",
       "      <td>2002-05-24</td>\n",
       "      <td>DF</td>\n",
       "      <td>5.0</td>\n",
       "      <td>ATIVIDADES DE ASSOCIAÇÕES DE DEFESA DE DIREITO...</td>\n",
       "    </tr>\n",
       "    <tr>\n",
       "      <th>11596</th>\n",
       "      <td>5086765000100</td>\n",
       "      <td>ASSOCIACAO BRASILEIRA DAS EMPRESAS DE TRANSPOR...</td>\n",
       "      <td>Impedimento</td>\n",
       "      <td>Ministério do Turismo - Unidades com vínculo d...</td>\n",
       "      <td>IRREGULARIDADE NA EXECUCAO FINANCEIRA</td>\n",
       "      <td></td>\n",
       "      <td></td>\n",
       "      <td>CEPIM</td>\n",
       "      <td>ASSOCIACAO BRASILEIRA DAS EMPRESAS DE TRANSPOR...</td>\n",
       "      <td>4.0</td>\n",
       "      <td>3999.0</td>\n",
       "      <td>2002-05-24</td>\n",
       "      <td>DF</td>\n",
       "      <td>5.0</td>\n",
       "      <td>ATIVIDADES DE ASSOCIAÇÕES DE DEFESA DE DIREITO...</td>\n",
       "    </tr>\n",
       "    <tr>\n",
       "      <th>11597</th>\n",
       "      <td>5086765000100</td>\n",
       "      <td>ASSOCIACAO BRASILEIRA DAS EMPRESAS DE TRANSPOR...</td>\n",
       "      <td>Impedimento</td>\n",
       "      <td>Ministério do Turismo - Unidades com vínculo d...</td>\n",
       "      <td>IRREGULARIDADE NA EXECUCAO FINANCEIRA</td>\n",
       "      <td></td>\n",
       "      <td></td>\n",
       "      <td>CEPIM</td>\n",
       "      <td>ASSOCIACAO BRASILEIRA DAS EMPRESAS DE TRANSPOR...</td>\n",
       "      <td>4.0</td>\n",
       "      <td>3999.0</td>\n",
       "      <td>2002-05-24</td>\n",
       "      <td>DF</td>\n",
       "      <td>5.0</td>\n",
       "      <td>ATIVIDADES DE ASSOCIAÇÕES DE DEFESA DE DIREITO...</td>\n",
       "    </tr>\n",
       "    <tr>\n",
       "      <th>11598</th>\n",
       "      <td>5086765000100</td>\n",
       "      <td>ASSOCIACAO BRASILEIRA DAS EMPRESAS DE TRANSPOR...</td>\n",
       "      <td>Impedimento</td>\n",
       "      <td>Ministério do Turismo - Unidades com vínculo d...</td>\n",
       "      <td>MOTIVO NÃO ESPECIFICADO</td>\n",
       "      <td></td>\n",
       "      <td></td>\n",
       "      <td>CEPIM</td>\n",
       "      <td>ASSOCIACAO BRASILEIRA DAS EMPRESAS DE TRANSPOR...</td>\n",
       "      <td>4.0</td>\n",
       "      <td>3999.0</td>\n",
       "      <td>2002-05-24</td>\n",
       "      <td>DF</td>\n",
       "      <td>5.0</td>\n",
       "      <td>ATIVIDADES DE ASSOCIAÇÕES DE DEFESA DE DIREITO...</td>\n",
       "    </tr>\n",
       "    <tr>\n",
       "      <th>11599</th>\n",
       "      <td>5086765000100</td>\n",
       "      <td>ASSOCIACAO BRASILEIRA DAS EMPRESAS DE TRANSPOR...</td>\n",
       "      <td>Impedimento</td>\n",
       "      <td>Ministério do Turismo - Unidades com vínculo d...</td>\n",
       "      <td>IRREGULARIDADE NA EXECUCAO FINANCEIRA</td>\n",
       "      <td></td>\n",
       "      <td></td>\n",
       "      <td>CEPIM</td>\n",
       "      <td>ASSOCIACAO BRASILEIRA DAS EMPRESAS DE TRANSPOR...</td>\n",
       "      <td>4.0</td>\n",
       "      <td>3999.0</td>\n",
       "      <td>2002-05-24</td>\n",
       "      <td>DF</td>\n",
       "      <td>5.0</td>\n",
       "      <td>ATIVIDADES DE ASSOCIAÇÕES DE DEFESA DE DIREITO...</td>\n",
       "    </tr>\n",
       "    <tr>\n",
       "      <th>11600</th>\n",
       "      <td>5086765000100</td>\n",
       "      <td>ASSOCIACAO BRASILEIRA DAS EMPRESAS DE TRANSPOR...</td>\n",
       "      <td>Impedimento</td>\n",
       "      <td>Ministério do Turismo - Unidades com vínculo d...</td>\n",
       "      <td>IRREGULARIDADE NA EXECUCAO FINANCEIRA</td>\n",
       "      <td></td>\n",
       "      <td></td>\n",
       "      <td>CEPIM</td>\n",
       "      <td>ASSOCIACAO BRASILEIRA DAS EMPRESAS DE TRANSPOR...</td>\n",
       "      <td>4.0</td>\n",
       "      <td>3999.0</td>\n",
       "      <td>2002-05-24</td>\n",
       "      <td>DF</td>\n",
       "      <td>5.0</td>\n",
       "      <td>ATIVIDADES DE ASSOCIAÇÕES DE DEFESA DE DIREITO...</td>\n",
       "    </tr>\n",
       "    <tr>\n",
       "      <th>11601</th>\n",
       "      <td>5086765000100</td>\n",
       "      <td>ASSOCIACAO BRASILEIRA DAS EMPRESAS DE TRANSPOR...</td>\n",
       "      <td>Impedimento</td>\n",
       "      <td>Ministério do Turismo - Unidades com vínculo d...</td>\n",
       "      <td>MOTIVO NÃO ESPECIFICADO</td>\n",
       "      <td></td>\n",
       "      <td></td>\n",
       "      <td>CEPIM</td>\n",
       "      <td>ASSOCIACAO BRASILEIRA DAS EMPRESAS DE TRANSPOR...</td>\n",
       "      <td>4.0</td>\n",
       "      <td>3999.0</td>\n",
       "      <td>2002-05-24</td>\n",
       "      <td>DF</td>\n",
       "      <td>5.0</td>\n",
       "      <td>ATIVIDADES DE ASSOCIAÇÕES DE DEFESA DE DIREITO...</td>\n",
       "    </tr>\n",
       "    <tr>\n",
       "      <th>11602</th>\n",
       "      <td>5086765000100</td>\n",
       "      <td>ASSOCIACAO BRASILEIRA DAS EMPRESAS DE TRANSPOR...</td>\n",
       "      <td>Impedimento</td>\n",
       "      <td>Ministério do Turismo - Unidades com vínculo d...</td>\n",
       "      <td>MOTIVO NÃO ESPECIFICADO</td>\n",
       "      <td></td>\n",
       "      <td></td>\n",
       "      <td>CEPIM</td>\n",
       "      <td>ASSOCIACAO BRASILEIRA DAS EMPRESAS DE TRANSPOR...</td>\n",
       "      <td>4.0</td>\n",
       "      <td>3999.0</td>\n",
       "      <td>2002-05-24</td>\n",
       "      <td>DF</td>\n",
       "      <td>5.0</td>\n",
       "      <td>ATIVIDADES DE ASSOCIAÇÕES DE DEFESA DE DIREITO...</td>\n",
       "    </tr>\n",
       "    <tr>\n",
       "      <th>11603</th>\n",
       "      <td>5086765000100</td>\n",
       "      <td>ASSOCIACAO BRASILEIRA DAS EMPRESAS DE TRANSPOR...</td>\n",
       "      <td>Impedimento</td>\n",
       "      <td>Ministério do Turismo - Unidades com vínculo d...</td>\n",
       "      <td>MOTIVO NÃO ESPECIFICADO</td>\n",
       "      <td></td>\n",
       "      <td></td>\n",
       "      <td>CEPIM</td>\n",
       "      <td>ASSOCIACAO BRASILEIRA DAS EMPRESAS DE TRANSPOR...</td>\n",
       "      <td>4.0</td>\n",
       "      <td>3999.0</td>\n",
       "      <td>2002-05-24</td>\n",
       "      <td>DF</td>\n",
       "      <td>5.0</td>\n",
       "      <td>ATIVIDADES DE ASSOCIAÇÕES DE DEFESA DE DIREITO...</td>\n",
       "    </tr>\n",
       "    <tr>\n",
       "      <th>11604</th>\n",
       "      <td>5086765000100</td>\n",
       "      <td>ASSOCIACAO BRASILEIRA DAS EMPRESAS DE TRANSPOR...</td>\n",
       "      <td>Impedimento</td>\n",
       "      <td>Ministério do Turismo - Unidades com vínculo d...</td>\n",
       "      <td>INSTAURACAO DE TOMADA DE CONTAS ESPECIAL</td>\n",
       "      <td></td>\n",
       "      <td></td>\n",
       "      <td>CEPIM</td>\n",
       "      <td>ASSOCIACAO BRASILEIRA DAS EMPRESAS DE TRANSPOR...</td>\n",
       "      <td>4.0</td>\n",
       "      <td>3999.0</td>\n",
       "      <td>2002-05-24</td>\n",
       "      <td>DF</td>\n",
       "      <td>5.0</td>\n",
       "      <td>ATIVIDADES DE ASSOCIAÇÕES DE DEFESA DE DIREITO...</td>\n",
       "    </tr>\n",
       "    <tr>\n",
       "      <th>12632</th>\n",
       "      <td>5086765000100</td>\n",
       "      <td>ASSOCIAÇÃO BRASILEIRA DAS EMPRESAS DE TRANSPOR...</td>\n",
       "      <td>Inidoneidade - Lei Orgânica TCU</td>\n",
       "      <td>TRIBUNAL DE CONTAS DA UNIÃO</td>\n",
       "      <td>Art. 46, Lei 8443/1992</td>\n",
       "      <td>26/07/2018</td>\n",
       "      <td>26/07/2023</td>\n",
       "      <td>CEIS</td>\n",
       "      <td>ASSOCIACAO BRASILEIRA DAS EMPRESAS DE TRANSPOR...</td>\n",
       "      <td>4.0</td>\n",
       "      <td>3999.0</td>\n",
       "      <td>2002-05-24</td>\n",
       "      <td>DF</td>\n",
       "      <td>5.0</td>\n",
       "      <td>ATIVIDADES DE ASSOCIAÇÕES DE DEFESA DE DIREITO...</td>\n",
       "    </tr>\n",
       "    <tr>\n",
       "      <th>12647</th>\n",
       "      <td>5086765000100</td>\n",
       "      <td>ABETAR - Associação Brasileira das Empresas de...</td>\n",
       "      <td>Decisão judicial liminar/cautelar que impeça c...</td>\n",
       "      <td>Justiça Federal de São Paulo</td>\n",
       "      <td>Sem Informação</td>\n",
       "      <td>25/07/2012</td>\n",
       "      <td>NaN</td>\n",
       "      <td>CEIS</td>\n",
       "      <td>ASSOCIACAO BRASILEIRA DAS EMPRESAS DE TRANSPOR...</td>\n",
       "      <td>4.0</td>\n",
       "      <td>3999.0</td>\n",
       "      <td>2002-05-24</td>\n",
       "      <td>DF</td>\n",
       "      <td>5.0</td>\n",
       "      <td>ATIVIDADES DE ASSOCIAÇÕES DE DEFESA DE DIREITO...</td>\n",
       "    </tr>\n",
       "    <tr>\n",
       "      <th>12701</th>\n",
       "      <td>5086765000100</td>\n",
       "      <td>ASSOCIAÇÃO BRASILEIRA DAS EMPRESAS DE TRANSPOR...</td>\n",
       "      <td>Inidoneo</td>\n",
       "      <td>TCU</td>\n",
       "      <td></td>\n",
       "      <td>26/07/2018</td>\n",
       "      <td>26/07/2023</td>\n",
       "      <td>INIDONEO</td>\n",
       "      <td>ASSOCIACAO BRASILEIRA DAS EMPRESAS DE TRANSPOR...</td>\n",
       "      <td>4.0</td>\n",
       "      <td>3999.0</td>\n",
       "      <td>2002-05-24</td>\n",
       "      <td>DF</td>\n",
       "      <td>5.0</td>\n",
       "      <td>ATIVIDADES DE ASSOCIAÇÕES DE DEFESA DE DIREITO...</td>\n",
       "    </tr>\n",
       "  </tbody>\n",
       "</table>\n",
       "</div>"
      ],
      "text/plain": [
       "                cnpj                                               nome  \\\n",
       "11592  5086765000100  ASSOCIACAO BRASILEIRA DAS EMPRESAS DE TRANSPOR...   \n",
       "11593  5086765000100  ASSOCIACAO BRASILEIRA DAS EMPRESAS DE TRANSPOR...   \n",
       "11594  5086765000100  ASSOCIACAO BRASILEIRA DAS EMPRESAS DE TRANSPOR...   \n",
       "11595  5086765000100  ASSOCIACAO BRASILEIRA DAS EMPRESAS DE TRANSPOR...   \n",
       "11596  5086765000100  ASSOCIACAO BRASILEIRA DAS EMPRESAS DE TRANSPOR...   \n",
       "11597  5086765000100  ASSOCIACAO BRASILEIRA DAS EMPRESAS DE TRANSPOR...   \n",
       "11598  5086765000100  ASSOCIACAO BRASILEIRA DAS EMPRESAS DE TRANSPOR...   \n",
       "11599  5086765000100  ASSOCIACAO BRASILEIRA DAS EMPRESAS DE TRANSPOR...   \n",
       "11600  5086765000100  ASSOCIACAO BRASILEIRA DAS EMPRESAS DE TRANSPOR...   \n",
       "11601  5086765000100  ASSOCIACAO BRASILEIRA DAS EMPRESAS DE TRANSPOR...   \n",
       "11602  5086765000100  ASSOCIACAO BRASILEIRA DAS EMPRESAS DE TRANSPOR...   \n",
       "11603  5086765000100  ASSOCIACAO BRASILEIRA DAS EMPRESAS DE TRANSPOR...   \n",
       "11604  5086765000100  ASSOCIACAO BRASILEIRA DAS EMPRESAS DE TRANSPOR...   \n",
       "12632  5086765000100  ASSOCIAÇÃO BRASILEIRA DAS EMPRESAS DE TRANSPOR...   \n",
       "12647  5086765000100  ABETAR - Associação Brasileira das Empresas de...   \n",
       "12701  5086765000100  ASSOCIAÇÃO BRASILEIRA DAS EMPRESAS DE TRANSPOR...   \n",
       "\n",
       "                                              penalidade  \\\n",
       "11592                                        Impedimento   \n",
       "11593                                        Impedimento   \n",
       "11594                                        Impedimento   \n",
       "11595                                        Impedimento   \n",
       "11596                                        Impedimento   \n",
       "11597                                        Impedimento   \n",
       "11598                                        Impedimento   \n",
       "11599                                        Impedimento   \n",
       "11600                                        Impedimento   \n",
       "11601                                        Impedimento   \n",
       "11602                                        Impedimento   \n",
       "11603                                        Impedimento   \n",
       "11604                                        Impedimento   \n",
       "12632                    Inidoneidade - Lei Orgânica TCU   \n",
       "12647  Decisão judicial liminar/cautelar que impeça c...   \n",
       "12701                                           Inidoneo   \n",
       "\n",
       "                                             sancionador  \\\n",
       "11592  Ministério do Turismo - Unidades com vínculo d...   \n",
       "11593  Ministério do Turismo - Unidades com vínculo d...   \n",
       "11594  Ministério do Turismo - Unidades com vínculo d...   \n",
       "11595  Ministério do Turismo - Unidades com vínculo d...   \n",
       "11596  Ministério do Turismo - Unidades com vínculo d...   \n",
       "11597  Ministério do Turismo - Unidades com vínculo d...   \n",
       "11598  Ministério do Turismo - Unidades com vínculo d...   \n",
       "11599  Ministério do Turismo - Unidades com vínculo d...   \n",
       "11600  Ministério do Turismo - Unidades com vínculo d...   \n",
       "11601  Ministério do Turismo - Unidades com vínculo d...   \n",
       "11602  Ministério do Turismo - Unidades com vínculo d...   \n",
       "11603  Ministério do Turismo - Unidades com vínculo d...   \n",
       "11604  Ministério do Turismo - Unidades com vínculo d...   \n",
       "12632                        TRIBUNAL DE CONTAS DA UNIÃO   \n",
       "12647                       Justiça Federal de São Paulo   \n",
       "12701                                                TCU   \n",
       "\n",
       "                                              motivo  dataInicio     dataFim  \\\n",
       "11592       INSTAURACAO DE TOMADA DE CONTAS ESPECIAL                           \n",
       "11593  NAO APRESENTACAO DE DOCUMENTACAO COMPLEMENTAR                           \n",
       "11594          IRREGULARIDADE NA EXECUCAO FINANCEIRA                           \n",
       "11595       INSTAURACAO DE TOMADA DE CONTAS ESPECIAL                           \n",
       "11596          IRREGULARIDADE NA EXECUCAO FINANCEIRA                           \n",
       "11597          IRREGULARIDADE NA EXECUCAO FINANCEIRA                           \n",
       "11598                        MOTIVO NÃO ESPECIFICADO                           \n",
       "11599          IRREGULARIDADE NA EXECUCAO FINANCEIRA                           \n",
       "11600          IRREGULARIDADE NA EXECUCAO FINANCEIRA                           \n",
       "11601                        MOTIVO NÃO ESPECIFICADO                           \n",
       "11602                        MOTIVO NÃO ESPECIFICADO                           \n",
       "11603                        MOTIVO NÃO ESPECIFICADO                           \n",
       "11604       INSTAURACAO DE TOMADA DE CONTAS ESPECIAL                           \n",
       "12632                         Art. 46, Lei 8443/1992  26/07/2018  26/07/2023   \n",
       "12647                                 Sem Informação  25/07/2012         NaN   \n",
       "12701                                                 26/07/2018  26/07/2023   \n",
       "\n",
       "         origem                                       razao_social  \\\n",
       "11592     CEPIM  ASSOCIACAO BRASILEIRA DAS EMPRESAS DE TRANSPOR...   \n",
       "11593     CEPIM  ASSOCIACAO BRASILEIRA DAS EMPRESAS DE TRANSPOR...   \n",
       "11594     CEPIM  ASSOCIACAO BRASILEIRA DAS EMPRESAS DE TRANSPOR...   \n",
       "11595     CEPIM  ASSOCIACAO BRASILEIRA DAS EMPRESAS DE TRANSPOR...   \n",
       "11596     CEPIM  ASSOCIACAO BRASILEIRA DAS EMPRESAS DE TRANSPOR...   \n",
       "11597     CEPIM  ASSOCIACAO BRASILEIRA DAS EMPRESAS DE TRANSPOR...   \n",
       "11598     CEPIM  ASSOCIACAO BRASILEIRA DAS EMPRESAS DE TRANSPOR...   \n",
       "11599     CEPIM  ASSOCIACAO BRASILEIRA DAS EMPRESAS DE TRANSPOR...   \n",
       "11600     CEPIM  ASSOCIACAO BRASILEIRA DAS EMPRESAS DE TRANSPOR...   \n",
       "11601     CEPIM  ASSOCIACAO BRASILEIRA DAS EMPRESAS DE TRANSPOR...   \n",
       "11602     CEPIM  ASSOCIACAO BRASILEIRA DAS EMPRESAS DE TRANSPOR...   \n",
       "11603     CEPIM  ASSOCIACAO BRASILEIRA DAS EMPRESAS DE TRANSPOR...   \n",
       "11604     CEPIM  ASSOCIACAO BRASILEIRA DAS EMPRESAS DE TRANSPOR...   \n",
       "12632      CEIS  ASSOCIACAO BRASILEIRA DAS EMPRESAS DE TRANSPOR...   \n",
       "12647      CEIS  ASSOCIACAO BRASILEIRA DAS EMPRESAS DE TRANSPOR...   \n",
       "12701  INIDONEO  ASSOCIACAO BRASILEIRA DAS EMPRESAS DE TRANSPOR...   \n",
       "\n",
       "       situacao_cadastral  codigo_natureza_juridica data_inicio_atividade  uf  \\\n",
       "11592                 4.0                    3999.0            2002-05-24  DF   \n",
       "11593                 4.0                    3999.0            2002-05-24  DF   \n",
       "11594                 4.0                    3999.0            2002-05-24  DF   \n",
       "11595                 4.0                    3999.0            2002-05-24  DF   \n",
       "11596                 4.0                    3999.0            2002-05-24  DF   \n",
       "11597                 4.0                    3999.0            2002-05-24  DF   \n",
       "11598                 4.0                    3999.0            2002-05-24  DF   \n",
       "11599                 4.0                    3999.0            2002-05-24  DF   \n",
       "11600                 4.0                    3999.0            2002-05-24  DF   \n",
       "11601                 4.0                    3999.0            2002-05-24  DF   \n",
       "11602                 4.0                    3999.0            2002-05-24  DF   \n",
       "11603                 4.0                    3999.0            2002-05-24  DF   \n",
       "11604                 4.0                    3999.0            2002-05-24  DF   \n",
       "12632                 4.0                    3999.0            2002-05-24  DF   \n",
       "12647                 4.0                    3999.0            2002-05-24  DF   \n",
       "12701                 4.0                    3999.0            2002-05-24  DF   \n",
       "\n",
       "       porte_empresa                                           dsc_cnae  \n",
       "11592            5.0  ATIVIDADES DE ASSOCIAÇÕES DE DEFESA DE DIREITO...  \n",
       "11593            5.0  ATIVIDADES DE ASSOCIAÇÕES DE DEFESA DE DIREITO...  \n",
       "11594            5.0  ATIVIDADES DE ASSOCIAÇÕES DE DEFESA DE DIREITO...  \n",
       "11595            5.0  ATIVIDADES DE ASSOCIAÇÕES DE DEFESA DE DIREITO...  \n",
       "11596            5.0  ATIVIDADES DE ASSOCIAÇÕES DE DEFESA DE DIREITO...  \n",
       "11597            5.0  ATIVIDADES DE ASSOCIAÇÕES DE DEFESA DE DIREITO...  \n",
       "11598            5.0  ATIVIDADES DE ASSOCIAÇÕES DE DEFESA DE DIREITO...  \n",
       "11599            5.0  ATIVIDADES DE ASSOCIAÇÕES DE DEFESA DE DIREITO...  \n",
       "11600            5.0  ATIVIDADES DE ASSOCIAÇÕES DE DEFESA DE DIREITO...  \n",
       "11601            5.0  ATIVIDADES DE ASSOCIAÇÕES DE DEFESA DE DIREITO...  \n",
       "11602            5.0  ATIVIDADES DE ASSOCIAÇÕES DE DEFESA DE DIREITO...  \n",
       "11603            5.0  ATIVIDADES DE ASSOCIAÇÕES DE DEFESA DE DIREITO...  \n",
       "11604            5.0  ATIVIDADES DE ASSOCIAÇÕES DE DEFESA DE DIREITO...  \n",
       "12632            5.0  ATIVIDADES DE ASSOCIAÇÕES DE DEFESA DE DIREITO...  \n",
       "12647            5.0  ATIVIDADES DE ASSOCIAÇÕES DE DEFESA DE DIREITO...  \n",
       "12701            5.0  ATIVIDADES DE ASSOCIAÇÕES DE DEFESA DE DIREITO...  "
      ]
     },
     "execution_count": 50,
     "metadata": {},
     "output_type": "execute_result"
    }
   ],
   "source": [
    "# Registro tanto no CEIS quanto no CEPIM. Não há no SICAF.\n",
    "pen.loc[pen['cnpj'] == 5086765000100]"
   ]
  },
  {
   "cell_type": "markdown",
   "metadata": {},
   "source": [
    "## 6. Quais são os órgãos que mais aplicam penalidades;"
   ]
  },
  {
   "cell_type": "code",
   "execution_count": 51,
   "metadata": {},
   "outputs": [
    {
     "data": {
      "text/plain": [
       "ministerio da agricultura, pecuaria e abastecimento               1000\n",
       "ministerio do turismo                                              916\n",
       "ministerio da cidadania                                            806\n",
       "governo do estado da bahia                                         667\n",
       "justica eleitoral                                                  647\n",
       "empresa brasileira de correios e telegrafos                        539\n",
       "ministerio do planejamento,desenv. e gestao                        522\n",
       "tribunal de contas da uniao                                        458\n",
       "ministerio da saude                                                447\n",
       "ministerio da economia                                             373\n",
       "ministerio da mulher, familia e direitos humanos                   329\n",
       "ministerio da educacao                                             300\n",
       "empresa bras.de infra-estrutura aeroportuaria                      271\n",
       "ministerio da ciência, tecnologia, inovacões e comunicacões        267\n",
       "ministerio da fazenda                                              226\n",
       "justica federal                                                    225\n",
       "agência nacional de transportes terrestres                         219\n",
       "empresa brasileira de infra-estrutura aeroportuaria - infraero     161\n",
       "banco do brasil s.a.                                               142\n",
       "ministerio do desenvolvimento regional                             140\n",
       "Name: sancionador, dtype: int64"
      ]
     },
     "execution_count": 51,
     "metadata": {},
     "output_type": "execute_result"
    }
   ],
   "source": [
    "# Quais órgãos que mais penalizam?\n",
    "pen.groupby('sancionador').size().sort_values(ascending=False)\n",
    "\n",
    "# Transforma para letra minuscula\n",
    "pen['sancionador'] = pen['sancionador'].str.lower()\n",
    "\n",
    "# Padroniza os principais, removendo ç , ã é ú e (ba)\n",
    "pen['sancionador'] = pen['sancionador'].str.replace('ã', 'a')\n",
    "pen['sancionador'] = pen['sancionador'].str.replace('ç', 'c')\n",
    "pen['sancionador'] = pen['sancionador'].str.replace('é', 'e')\n",
    "pen['sancionador'] = pen['sancionador'].str.replace('í', 'i')\n",
    "pen['sancionador'] = pen['sancionador'].str.replace('ú', 'u')\n",
    "pen['sancionador'] = pen['sancionador'].str.replace('á', 'a')\n",
    "pen['sancionador'] = pen['sancionador'].str.replace(' \\(ba\\)', '')\n",
    "pen['sancionador'] = pen['sancionador'].str.replace('tcu', 'tribunal de contas da uniao')\n",
    "pen['sancionador'] = pen['sancionador'].str.replace('- unidades com vinculo direto', '')\n",
    "\n",
    "# De novo...\n",
    "pen.sancionador.value_counts().head(20)"
   ]
  },
  {
   "cell_type": "markdown",
   "metadata": {},
   "source": [
    "## 7. As legislações mais aplicadas em penalidades"
   ]
  },
  {
   "cell_type": "code",
   "execution_count": 52,
   "metadata": {},
   "outputs": [],
   "source": [
    "# 5. Top legislação aplicada\n",
    "pen.motivo.value_counts().head(20);"
   ]
  },
  {
   "cell_type": "code",
   "execution_count": 53,
   "metadata": {},
   "outputs": [
    {
     "data": {
      "text/plain": [
       "3203"
      ]
     },
     "execution_count": 53,
     "metadata": {},
     "output_type": "execute_result"
    }
   ],
   "source": [
    "# Quantidade motivos diferentes\n",
    "pen.motivo.nunique()"
   ]
  },
  {
   "cell_type": "code",
   "execution_count": 54,
   "metadata": {},
   "outputs": [],
   "source": [
    "# Cria uma coluna de motivo padronizada removendo os pontos .\n",
    "pen['motivo'] = pen['motivo'].str.replace('.','')\n",
    "\n",
    "# Transforma para minuscula\n",
    "pen['motivo'] = pen['motivo'].str.lower()\n",
    "\n",
    "# Transforma para minuscula\n",
    "pen['motivop'] = 'Legislação não informada'\n",
    "\n",
    "# Lei 10520/2002 ou 10520/02 \n",
    "pen.loc[pen['motivo'].str.contains('10520/2002'), 'motivop'] = 'Lei 10520/2002'\n",
    "pen.loc[pen['motivo'].str.contains('10520/02'), 'motivop'] = 'Lei 10520/2002'\n",
    "pen.loc[pen['motivo'].str.contains('8666/1993'), 'motivop'] = 'Lei 8666/1993'\n",
    "pen.loc[pen['motivo'].str.contains('8666/93'), 'motivop'] = 'Lei 8666/1993'\n",
    "pen.loc[pen['motivo'].str.contains('8429/1992'), 'motivop'] = 'Lei 8429/1992'\n",
    "pen.loc[pen['motivo'].str.contains('8429/92'), 'motivop'] = 'Lei 8429/1992'\n",
    "pen.loc[pen['motivo'].str.contains('9433/2005'), 'motivop'] = 'Lei 9433/2005'\n",
    "pen.loc[pen['motivo'].str.contains('9433/05'), 'motivop'] = 'Lei 9433/2005'\n",
    "pen.loc[pen['motivo'].str.contains('10233/2001'), 'motivop'] = 'Lei 10233/2001'\n",
    "pen.loc[pen['motivo'].str.contains('10233/01'), 'motivop'] = 'Lei 10233/2001'\n",
    "pen.loc[pen['motivo'].str.contains('9504/1997'), 'motivop'] = 'Lei 9504/1997'\n",
    "pen.loc[pen['motivo'].str.contains('9504/97'), 'motivop'] = 'Lei 9504/1997'\n",
    "pen.loc[pen['motivo'].str.contains('8443/1992'), 'motivop'] = 'Lei 8443/1992'\n",
    "pen.loc[pen['motivo'].str.contains('8443/92'), 'motivop'] = 'Lei 8443/1992'\n",
    "pen.loc[pen['motivo'].str.contains('13303/2016'), 'motivop'] = 'Lei 13303/2016'\n",
    "pen.loc[pen['motivo'].str.contains('13303/16'), 'motivop'] = 'Lei 13303/2016'\n",
    "pen.loc[pen['motivo'].str.contains('12846/2013'), 'motivop'] = 'Lei 12846/2013'\n",
    "pen.loc[pen['motivo'].str.contains('12846/13'), 'motivop'] = 'Lei 12846/2013'\n",
    "pen.loc[pen['motivo'].str.contains('45902/2012'), 'motivop'] = 'Decreto 45902/2012'\n",
    "pen.loc[pen['motivo'].str.contains('45902/12'), 'motivop'] = 'Decreto 45902/2012'\n",
    "pen.loc[pen['motivo'].str.contains('5450/2005'), 'motivop'] = 'Decreto 5450/2005'\n",
    "pen.loc[pen['motivo'].str.contains('5450/05'), 'motivop'] = 'Decreto 5450/2005'\n",
    "pen.loc[pen['motivo'].str.contains('5450/2005'), 'motivop'] = 'Decreto 5450/2005'\n",
    "pen.loc[pen['motivo'].str.contains('5450/05'), 'motivop'] = 'Decreto 5450/2005'\n",
    "pen.loc[pen['motivo'].str.contains('12529/2011'), 'motivop'] = 'Lei 12529/2011'\n",
    "pen.loc[pen['motivo'].str.contains('12529/11'), 'motivop'] = 'Lei 12529/2011'\n",
    "pen.loc[pen['motivo'].str.contains('2745/1998'), 'motivop'] = 'Decreto 2745/1998'\n",
    "pen.loc[pen['motivo'].str.contains('2745/98'), 'motivop'] = 'Decreto 2745/1998'\n",
    "pen.loc[pen['motivo'].str.contains('clausula'), 'motivop'] = 'Cláusula Contratual'\n",
    "pen.loc[pen['motivo'].str.contains('cláusula'), 'motivop'] = 'Cláusula Contratual'\n",
    "pen.loc[pen['motivo'].str.contains('estadual'), 'motivop'] = 'Legislação Estadual'\n",
    "pen.loc[pen['motivo'].str.contains('acórdão'), 'motivop'] = 'Acórdão TCU'\n",
    "pen.loc[pen['motivo'].str.contains('acordão'), 'motivop'] = 'Acórdão TCU'\n",
    "pen.motivop.value_counts().head(20);"
   ]
  },
  {
   "cell_type": "code",
   "execution_count": 55,
   "metadata": {},
   "outputs": [],
   "source": [
    "# Quantidade de motivos padronizados\n",
    "pen.motivop.nunique();"
   ]
  },
  {
   "cell_type": "code",
   "execution_count": 79,
   "metadata": {},
   "outputs": [
    {
     "data": {
      "text/plain": [
       "Legislação não informada    8089\n",
       "Lei 8666/1993               3100\n",
       "Lei 10520/2002              2104\n",
       "Lei 8429/1992                743\n",
       "Cláusula Contratual          651\n",
       "Lei 9504/1997                630\n",
       "Lei 9433/2005                501\n",
       "Acórdão TCU                  282\n",
       "Lei 10233/2001               204\n",
       "Lei 8443/1992                184\n",
       "Lei 12846/2013                99\n",
       "Lei 13303/2016                85\n",
       "Legislação Estadual           57\n",
       "Decreto 45902/2012            48\n",
       "Decreto 5450/2005             47\n",
       "Lei 12529/2011                23\n",
       "Decreto 2745/1998             20\n",
       "Name: motivop, dtype: int64"
      ]
     },
     "execution_count": 79,
     "metadata": {},
     "output_type": "execute_result"
    }
   ],
   "source": [
    "# Penalidades por Legislação Aplicada\n",
    "#sns.set(font_scale=2) \n",
    "#plt.figure(figsize=(14, 9));\n",
    "#ax = sns.countplot(y=\"motivop\", data=pen, order=descending_order)\n",
    "#suptitle(\"Ranking do Registro de Penalidades por Legislação Aplicada\")\n",
    "#ax.set_xlabel(\"\") # Titulo do Eixo X\n",
    "#ax.set_ylabel(\"\") # Titulo do Eixo Y\n",
    "pen.motivop.value_counts()"
   ]
  },
  {
   "cell_type": "markdown",
   "metadata": {},
   "source": [
    "## 8. Ranking das penalidades mais aplicadas (impedimento, multas, suspensão);\n",
    "\n",
    "Manual de Sanções[1]: https://www.comprasgovernamentais.gov.br/images/conteudo/ArquivosCGNOR/manual-sancoes-22-09.pdf <br/>\n",
    "Manual de Sanções[2]: https://www.comprasgovernamentais.gov.br/images/conteudo/ArquivosCGNOR/caderno-de-logistica-de-sancao-2.pdf<br/>\n",
    "Painel de Transferencias Volunárias: https://www.transferenciasabertas.planejamento.gov.br/"
   ]
  },
  {
   "cell_type": "code",
   "execution_count": 57,
   "metadata": {},
   "outputs": [
    {
     "data": {
      "text/plain": [
       "Impedimento                                                                                 5570\n",
       "Impedimento - Lei do Pregão                                                                 1961\n",
       "Suspensão - Lei de Licitações                                                               1409\n",
       "inexecução parcial da Nota de Empenho 2017NE04315                                           1374\n",
       "Multa - Lei 13.303/2016, art. 83, inc. II                                                    815\n",
       "Inidoneidade - Lei de Licitações                                                             803\n",
       "Proibição - Lei de Improbidade                                                               646\n",
       "Inidoneidade - Legislação Estadual                                                           602\n",
       "Advertência - Lei 13.303/2016, art. 83, inc. I                                               466\n",
       "Suspensão temporária e Impedimento de contratar - Lei 13.303/2016, art. 83, inc. III         463\n",
       "Conforme inciso X. art.6º do Decreto Estadual n.876/2013, sem dano ao erário.                335\n",
       "Multado                                                                                      250\n",
       "Advertido                                                                                    242\n",
       "Inidoneidade - Lei da ANTT e ANTAQ                                                           204\n",
       "Proibição - Lei Eleitoral                                                                    186\n",
       "Decorrido                                                                                    185\n",
       "Inidoneo                                                                                     180\n",
       "Inidoneidade - Lei Orgânica TCU                                                              160\n",
       "Suspensão - Legislação Estadual                                                              155\n",
       "Decisão judicial liminar/cautelar que impeça contratação                                     144\n",
       "Suspensão - Lei das Estatais                                                                  82\n",
       "Multa - Lei da Empresa Limpa                                                                  65\n",
       "Suspensão por até 2 anos                                                                      63\n",
       "Atraso pela paralização  dos serviços empenhados, objeto do Contrato nº 01/2016-HMilACG.      56\n",
       "Vigente                                                                                       51\n",
       "Inidoneidade                                                                                  48\n",
       "Impedimento - Legislação Estadual                                                             41\n",
       "Impedimento. Art. 28, Decreto 5450/2005                                                       37\n",
       "Por descumprimento ou atraso na execução de cláusula contratual                               37\n",
       "Suspensão por até 5 anos                                                                      28\n",
       "Publicação Extraordinária - Lei da Empresa Limpa                                              28\n",
       "Inidoneidade - Legislação Municipal                                                           25\n",
       "Suspensão por Decisão Judicial                                                                23\n",
       "Proibição - Lei Antitruste                                                                    23\n",
       "Multa prevista Cláusula 17ª, Item 17.1.6, Contrato TRT8 nº 90/2017                            21\n",
       "Suspensão - Legislação Municipal                                                              18\n",
       "Suspensão - Decreto Petrobras                                                                 17\n",
       "Decisão judicial em execução cível que impeça a contratação                                   16\n",
       "Impedimento - Lei do RDC                                                                      14\n",
       "Impedimento - Legislação Municipal                                                             8\n",
       "Suspensão - Decreto ANEEL                                                                      5\n",
       "Artigos 150 e 151 da Lei Estadual nº 15.608/2007                                               5\n",
       "Proibição - Decreto Petrobras                                                                  3\n",
       "Proibição - Lei ambiental                                                                      2\n",
       "Requisição - Ministério Público                                                                1\n",
       "Name: penalidade, dtype: int64"
      ]
     },
     "execution_count": 57,
     "metadata": {},
     "output_type": "execute_result"
    }
   ],
   "source": [
    "# Penalidades por Tipo (multa, advertencia, suspensão, etc)\n",
    "pen.penalidade.value_counts()"
   ]
  },
  {
   "cell_type": "code",
   "execution_count": 58,
   "metadata": {},
   "outputs": [
    {
     "data": {
      "text/plain": [
       "9"
      ]
     },
     "execution_count": 58,
     "metadata": {},
     "output_type": "execute_result"
    }
   ],
   "source": [
    "# Transforma para minuscula\n",
    "pen['penalidade'] = pen['penalidade'].str.lower()\n",
    "\n",
    "# Transforma para minuscula\n",
    "pen['penalidadep'] = 'Outras'\n",
    "\n",
    "# Cria categorias para Padronizar os textos das penalidades\n",
    "pen.loc[pen['penalidade'].str.contains('proibição'), 'penalidadep'] = 'Proibição'\n",
    "pen.loc[pen['penalidade'].str.contains('impedimento'), 'penalidadep'] = 'Impedimento'\n",
    "pen.loc[pen['penalidade'].str.contains('suspensão'), 'penalidadep'] = 'Suspensão'\n",
    "pen.loc[pen['penalidade'].str.contains('inidoneidade'), 'penalidadep'] = 'Inidoneidade'\n",
    "pen.loc[pen['penalidade'].str.contains('advertência'), 'penalidadep'] = 'Advertência'\n",
    "pen.loc[pen['penalidade'].str.contains('multa'), 'penalidadep'] = 'Multa'\n",
    "pen.loc[pen['penalidade'].str.contains('decisão judicial'), 'penalidadep'] = 'Decisão Judicial'\n",
    "pen.loc[pen['penalidade'].str.contains('inexecução'), 'penalidadep'] = 'Inexecução'\n",
    "pen.penalidadep.nunique()"
   ]
  },
  {
   "cell_type": "code",
   "execution_count": 59,
   "metadata": {},
   "outputs": [
    {
     "data": {
      "text/plain": [
       "Impedimento         7631\n",
       "Suspensão           2240\n",
       "Inidoneidade        1842\n",
       "Inexecução          1374\n",
       "Multa               1151\n",
       "Outras              1120\n",
       "Proibição            860\n",
       "Advertência          466\n",
       "Decisão Judicial     183\n",
       "Name: penalidadep, dtype: int64"
      ]
     },
     "execution_count": 59,
     "metadata": {},
     "output_type": "execute_result"
    }
   ],
   "source": [
    "pen.penalidadep.value_counts()"
   ]
  },
  {
   "cell_type": "code",
   "execution_count": 60,
   "metadata": {},
   "outputs": [
    {
     "data": {
      "image/png": "[encoded data removed]",
      "text/plain": [
       "<Figure size 1080x432 with 1 Axes>"
      ]
     },
     "metadata": {},
     "output_type": "display_data"
    }
   ],
   "source": [
    "# 1. Penalidades por Pena\n",
    "descending_order = pen.penalidadep.value_counts().sort_values(ascending=False).index\n",
    "\n",
    "#penalidades['ano'].value_counts()[:15].plot(kind='barh')\n",
    "\n",
    "plt.figure(figsize=(15, 6));\n",
    "sns.set(font_scale=2) \n",
    "sns.set(style=\"darkgrid\")\n",
    "suptitle(\"Ranking do Registro de Penalidades por Tipo de Pena\")\n",
    "ax = sns.countplot(x=\"penalidadep\", data=pen, order=descending_order)\n",
    "#ax.set_xticklabels([\"Demais\",\"Micro Empresa\",\"Pequeno Porte\"])\n",
    "ax.set_xlabel(\"\") # Titulo do Eixo X\n",
    "ax.set_ylabel(\"\") # Titulo do Eixo Y\n",
    "\n",
    "total = len(pen)*1.\n",
    "#for p in ax.patches:\n",
    "#    ax.annotate('{:.1f}%'.format(100*p.get_height()/total), (p.get_x()+0.1, p.get_height()+5), ha=\"right\")\n",
    "        \n",
    "for p in ax.patches:\n",
    "    ax.annotate(str(p.get_height()), (p.get_x() * 1.005, p.get_height() * 1.005))\n",
    "\n",
    "#put 11 ticks (therefore 10 steps), from 0 to the total number of rows in the dataframe\n",
    "#ax.yaxis.set_ticks(np.linspace(0, total, 11))\n",
    "\n",
    "#adjust the ticklabel to the desired format, without changing the position of the ticks. \n",
    "_ = ax.set_yticklabels(map('{:.1f}%'.format, 100*ax.yaxis.get_majorticklocs()/total))"
   ]
  },
  {
   "cell_type": "markdown",
   "metadata": {},
   "source": [
    "## 9. Penalidades por mês e ano: Quando acontecem mais penalidades? "
   ]
  },
  {
   "cell_type": "code",
   "execution_count": 61,
   "metadata": {},
   "outputs": [
    {
     "data": {
      "image/png": "[encoded data removed]",
      "text/plain": [
       "<Figure size 720x432 with 1 Axes>"
      ]
     },
     "metadata": {},
     "output_type": "display_data"
    }
   ],
   "source": [
    "# Quando acontecem mais pen? \n",
    "import datetime\n",
    "import pandas as pd\n",
    "import math\n",
    "\n",
    "# Formata para mes\n",
    "pen['dataInicio']=pd.to_datetime(pen['dataInicio'], format=\"%d/%m/%Y\", errors='coerce')\n",
    "#pen['mes'] = pen['dataInicio'].dt.month\n",
    "pen['mes'] = pen['dataInicio'].dt.strftime('%m')\n",
    "\n",
    "# Qtd por Mês\n",
    "descending_order = pen.mes.value_counts().sort_values(ascending=False).index\n",
    "\n",
    "# Grafico de pen por Mês\n",
    "plt.figure(figsize=(10, 6));\n",
    "sns.countplot(x='mes', data=pen, order=descending_order);\n",
    "plt.title('pen por Mês');"
   ]
  },
  {
   "cell_type": "code",
   "execution_count": 62,
   "metadata": {},
   "outputs": [
    {
     "data": {
      "text/plain": [
       "<matplotlib.axes._subplots.AxesSubplot at 0x299f55f8d68>"
      ]
     },
     "execution_count": 62,
     "metadata": {},
     "output_type": "execute_result"
    },
    {
     "data": {
      "image/png": "[encoded data removed]",
      "text/plain": [
       "<Figure size 1080x432 with 1 Axes>"
      ]
     },
     "metadata": {},
     "output_type": "display_data"
    }
   ],
   "source": [
    "# Formata Penalidades por Ano\n",
    "pen['ano'] = pen['dataInicio'].dt.strftime('%Y')\n",
    "plt.figure(figsize=(15, 6));\n",
    "# Qtd por Mês\n",
    "pen.ano.value_counts().head(10)\n",
    "\n",
    "# Grafico\n",
    "pen['ano'].value_counts()[:15].plot(kind='barh')"
   ]
  },
  {
   "cell_type": "markdown",
   "metadata": {},
   "source": [
    "## 10. Penalidades por natureza jurídica;\n",
    "Começa com:\n",
    "* 1 - Administração Pública\n",
    "* 2 - Entidades Empresariais (2135: Empresario individual, 2062 - Sociedade Empresária Limitada, 2305: Empresa Individual, 2135: Empresário)\n",
    "* 3 - Entidades sem Fins Lucrativos (3999: Associação Privativa, 3069: Fundacao Privada, 3131:Entidade Sindical)\n",
    "* 4 - Pessoa Física (4090: Candidato a Cargo Político, 4120: Produtor Rural)\n",
    "* 5 - Organizações Internacionais\n",
    "\n",
    "Fonte: [Tabela de Natureza Jurídica](https://cnae.ibge.gov.br/images/concla/documentacao/CONCLA-TNJ2018-EstruturaDetalhada.pdf)"
   ]
  },
  {
   "cell_type": "code",
   "execution_count": 63,
   "metadata": {},
   "outputs": [
    {
     "data": {
      "text/plain": [
       "2062.0    6776\n",
       "3999.0    4875\n",
       "2305.0    2083\n",
       "2135.0    1539\n",
       "3069.0     528\n",
       "2143.0     269\n",
       "3131.0     197\n",
       "2054.0     189\n",
       "2240.0     171\n",
       "2151.0      73\n",
       "2232.0      37\n",
       "2038.0      20\n",
       "3077.0      18\n",
       "2313.0      15\n",
       "1074.0      13\n",
       "2046.0      11\n",
       "2011.0       9\n",
       "2216.0       7\n",
       "1104.0       6\n",
       "2178.0       5\n",
       "3220.0       4\n",
       "1244.0       4\n",
       "4014.0       3\n",
       "1082.0       3\n",
       "1023.0       2\n",
       "1112.0       2\n",
       "1015.0       2\n",
       "1201.0       1\n",
       "2070.0       1\n",
       "2321.0       1\n",
       "3085.0       1\n",
       "4120.0       1\n",
       "1058.0       1\n",
       "Name: codigo_natureza_juridica, dtype: int64"
      ]
     },
     "execution_count": 63,
     "metadata": {},
     "output_type": "execute_result"
    }
   ],
   "source": [
    "pen.codigo_natureza_juridica.value_counts()"
   ]
  },
  {
   "cell_type": "code",
   "execution_count": 64,
   "metadata": {},
   "outputs": [],
   "source": [
    "pen.loc[pen['codigo_natureza_juridica'] == 1104];"
   ]
  },
  {
   "cell_type": "code",
   "execution_count": 65,
   "metadata": {},
   "outputs": [],
   "source": [
    "# Cria uma coluna apenas com o primeiro digito da natureza jurídica\n",
    "pen['natureza'] = pen['codigo_natureza_juridica'].astype(str).str[0]\n",
    "pen.natureza.value_counts();"
   ]
  },
  {
   "cell_type": "code",
   "execution_count": 66,
   "metadata": {},
   "outputs": [
    {
     "data": {
      "image/png": "[encoded data removed]",
      "text/plain": [
       "<Figure size 432x288 with 1 Axes>"
      ]
     },
     "metadata": {},
     "output_type": "display_data"
    }
   ],
   "source": [
    "labels = ['2 - Empresas', '3 - Entidades sem Fins Lucrativos']\n",
    "sizes = [11206,5623]\n",
    "sns.set(font_scale=2)\n",
    "fig1, ax1 = plt.subplots()\n",
    "ax1.pie(sizes, labels=labels, autopct='%1.1f%%', startangle=90)\n",
    "ax1.axis('equal')  \n",
    "plt.tight_layout()\n",
    "plt.show()"
   ]
  },
  {
   "cell_type": "markdown",
   "metadata": {},
   "source": [
    "## 11. Quais tipos de serviços (CNAE) que sofreram mais penalidades?"
   ]
  },
  {
   "cell_type": "code",
   "execution_count": 67,
   "metadata": {},
   "outputs": [
    {
     "data": {
      "text/plain": [
       "ATIVIDADES DE ASSOCIAÇÕES DE DEFESA DE DIREITOS SOCIAIS                                                                3688\n",
       "CONSTRUÇÃO DE EDIFÍCIOS                                                                                                 947\n",
       "COMÉRCIO VAREJISTA ESPECIALIZADO DE EQUIPAMENTOS E SUPRIMENTOS DE INFORMÁTICA                                           563\n",
       "LIMPEZA EM PRÉDIOS E EM DOMICÍLIOS                                                                                      296\n",
       "SERVIÇOS DE ENGENHARIA                                                                                                  262\n",
       "ATIVIDADES DE ORGANIZAÇÕES SINDICAIS                                                                                    200\n",
       "COMÉRCIO VAREJISTA DE ARTIGOS DE PAPELARIA                                                                              175\n",
       "TRANSPORTE RODOVIÁRIO DE CARGA, EXCETO PRODUTOS PERIGOSOS E MUDANÇAS, INTERMUNICIPAL, INTERESTADUAL E INTERNACIONAL     171\n",
       "COMÉRCIO VAREJISTA DE OUTROS PRODUTOS NÃO ESPECIFICADOS ANTERIORMENTE                                                   154\n",
       "ATIVIDADES DE VIGILÂNCIA E SEGURANÇA PRIVADA                                                                            142\n",
       "OUTRAS ATIVIDADES DE SERVIÇOS PRESTADOS PRINCIPALMENTE ÀS EMPRESAS NÃO ESPECIFICADAS ANTERIORMENTE                      136\n",
       "TRANSPORTE RODOVIÁRIO DE CARGA, EXCETO PRODUTOS PERIGOSOS E MUDANÇAS, MUNICIPAL                                         135\n",
       "COMÉRCIO VAREJISTA DE MATERIAIS DE CONSTRUÇÃO EM GERAL                                                                  118\n",
       "ARTES CÊNICAS, ESPETÁCULOS E ATIVIDADES COMPLEMENTARES NÃO ESPECIFICADOS ANTERIORMENTE                                  116\n",
       "COMÉRCIO ATACADISTA DE INSTRUMENTOS E MATERIAIS PARA USO MÉDICO, CIRÚRGICO, HOSPITALAR E DE LABORATÓRIOS                114\n",
       "LOCAÇÃO DE MÃO-DE-OBRA TEMPORÁRIA                                                                                       113\n",
       "AGÊNCIAS DE VIAGENS                                                                                                     110\n",
       "COMÉRCIO ATACADISTA DE MEDICAMENTOS E DROGAS DE USO HUMANO                                                              110\n",
       "COMÉRCIO A VAREJO DE PEÇAS E ACESSÓRIOS NOVOS PARA VEÍCULOS AUTOMOTORES                                                 108\n",
       "ATIVIDADES DE ATENDIMENTO HOSPITALAR, EXCETO PRONTO-SOCORRO E UNIDADES PARA ATENDIMENTO A URGÊNCIAS                     106\n",
       "Name: dsc_cnae, dtype: int64"
      ]
     },
     "execution_count": 67,
     "metadata": {},
     "output_type": "execute_result"
    }
   ],
   "source": [
    "pen.dsc_cnae.value_counts().head(20)"
   ]
  },
  {
   "cell_type": "markdown",
   "metadata": {},
   "source": [
    "## 12. Top Empresas mais Penalizadas"
   ]
  },
  {
   "cell_type": "code",
   "execution_count": 68,
   "metadata": {},
   "outputs": [
    {
     "data": {
      "text/plain": [
       "CNHS INFORMATICA LTDA - ME                                99\n",
       "R.F. CASALI TRANSPORTES - ME                              94\n",
       "ASSOCIACAO SERGIPANA DE BLOCOS DE TRIO                    68\n",
       "V & M INFORMATICA LTDA - ME                               63\n",
       "ASSOCIACAO DE ENSINO SUPERIOR DE NOVA IGUACU              55\n",
       "ASSOCIACAO NACIONAL DE COOPERACAO AGRICOLA                41\n",
       "PREMIUM AVANCA BRASIL                                     39\n",
       "FUNDACAO RIO MADEIRA                                      37\n",
       "FUNDACAO JOSE AMERICO                                     37\n",
       "ORGANIZACAO DE SAUDE COM EXCELENCIA E CIDADANIA - OSEC    35\n",
       "MUITO ESPECIAL                                            33\n",
       "FUNDACAO DE GESTAO E INOVACAO                             33\n",
       "FUNDACAO DE APOIO A PESQUISA E A EXTENSAO                 25\n",
       "MEGA PRESTADORA DE SERVICOS LTDA - EPP                    24\n",
       "GENIUS INSTITUTO DE TECNOLOGIA                            23\n",
       "IEC INSTITUTO EDUCAR E CRESCER                            22\n",
       "SOBEU - ASSOCIACAO BARRAMANSENSE DE ENSINO                22\n",
       "FEDERACAO BRASILEIRA DE CONVENTION & VISITORS BUREAUX     21\n",
       "FUNDACAO VIVILI                                           21\n",
       "COOPERESTRADA COOPERATIVA DE TRANSPORTES E LOGÍSTICA      20\n",
       "Name: nome, dtype: int64"
      ]
     },
     "execution_count": 68,
     "metadata": {},
     "output_type": "execute_result"
    }
   ],
   "source": [
    "# 6. Top empresas penalisadas\n",
    "pen.nome.value_counts().head(20)"
   ]
  },
  {
   "cell_type": "code",
   "execution_count": 69,
   "metadata": {},
   "outputs": [],
   "source": [
    "# Filtra as penalidades de uma empresa\n",
    "pen[pen['nome'].str.contains('GENIUS INSTITUTO DE TECNOLOGIA')];"
   ]
  },
  {
   "cell_type": "markdown",
   "metadata": {},
   "source": [
    "## 13. Empresas mais penalizadas por UF. "
   ]
  },
  {
   "cell_type": "code",
   "execution_count": 70,
   "metadata": {},
   "outputs": [
    {
     "data": {
      "text/plain": [
       "SP    28.7%\n",
       "MG    11.0%\n",
       "RJ     8.5%\n",
       "RS     7.5%\n",
       "PR     6.7%\n",
       "BA     5.2%\n",
       "SC     4.4%\n",
       "GO     3.4%\n",
       "PE     3.1%\n",
       "CE     2.9%\n",
       "ES     2.0%\n",
       "PA     2.0%\n",
       "MT     1.8%\n",
       "DF     1.7%\n",
       "MA     1.6%\n",
       "MS     1.4%\n",
       "PB     1.3%\n",
       "RN     1.2%\n",
       "AM     1.0%\n",
       "AL     1.0%\n",
       "PI     0.9%\n",
       "RO     0.7%\n",
       "TO     0.7%\n",
       "SE     0.7%\n",
       "EX     0.3%\n",
       "AC     0.2%\n",
       "AP     0.2%\n",
       "RR     0.2%\n",
       "BR     0.0%\n",
       "Name: uf, dtype: object"
      ]
     },
     "execution_count": 70,
     "metadata": {},
     "output_type": "execute_result"
    }
   ],
   "source": [
    "# Quantidade do total de empresas por UF\n",
    "cnpj.uf.value_counts(normalize=True).mul(100).round(1).astype(str) + '%'"
   ]
  },
  {
   "cell_type": "code",
   "execution_count": 71,
   "metadata": {},
   "outputs": [
    {
     "data": {
      "text/plain": [
       "SP    17.2%\n",
       "RJ    11.3%\n",
       "BA     8.2%\n",
       "MG     7.9%\n",
       "PR     7.4%\n",
       "DF     7.0%\n",
       "RS     5.3%\n",
       "GO     4.3%\n",
       "PE     3.6%\n",
       "SC     3.0%\n",
       "CE     2.6%\n",
       "MA     2.4%\n",
       "ES     2.1%\n",
       "PB     2.0%\n",
       "PA     1.9%\n",
       "SE     1.9%\n",
       "RN     1.7%\n",
       "AM     1.6%\n",
       "RO     1.5%\n",
       "MT     1.4%\n",
       "PI     1.2%\n",
       "AL     1.1%\n",
       "TO     1.1%\n",
       "MS     1.0%\n",
       "AP     0.6%\n",
       "AC     0.4%\n",
       "RR     0.4%\n",
       "EX     0.0%\n",
       "Name: uf, dtype: object"
      ]
     },
     "execution_count": 71,
     "metadata": {},
     "output_type": "execute_result"
    }
   ],
   "source": [
    "# Quantidade de penalidades por UF\n",
    "pen.uf.value_counts(normalize=True).mul(100).round(1).astype(str) + '%'"
   ]
  },
  {
   "cell_type": "markdown",
   "metadata": {},
   "source": [
    "## 14. Foram dados prazos diferentes para a mesma penalidade?"
   ]
  },
  {
   "cell_type": "code",
   "execution_count": 72,
   "metadata": {},
   "outputs": [
    {
     "data": {
      "text/plain": [
       "count    2099.000000\n",
       "mean     1262.939971\n",
       "std       721.156692\n",
       "min         0.000000\n",
       "25%       729.000000\n",
       "50%      1825.000000\n",
       "75%      1825.000000\n",
       "max      7304.000000\n",
       "Name: dias_de_penalidade, dtype: float64"
      ]
     },
     "execution_count": 72,
     "metadata": {},
     "output_type": "execute_result"
    }
   ],
   "source": [
    "# Contabiliza quantos dias de penalidades foram aplicados\n",
    "pen['dataFim2'] = pd.to_datetime(pen['dataFim'], format=\"%Y-%m-%d\", errors='coerce')\n",
    "pen['dias_de_penalidade'] = pen.dataFim2 - pen.dataInicio\n",
    "pen['dias_de_penalidade'] = pen['dias_de_penalidade'].astype('timedelta64[D]')\n",
    "pen.dias_de_penalidade.describe()"
   ]
  },
  {
   "cell_type": "code",
   "execution_count": 73,
   "metadata": {},
   "outputs": [
    {
     "data": {
      "text/html": [
       "<div>\n",
       "<style scoped>\n",
       "    .dataframe tbody tr th:only-of-type {\n",
       "        vertical-align: middle;\n",
       "    }\n",
       "\n",
       "    .dataframe tbody tr th {\n",
       "        vertical-align: top;\n",
       "    }\n",
       "\n",
       "    .dataframe thead th {\n",
       "        text-align: right;\n",
       "    }\n",
       "</style>\n",
       "<table border=\"1\" class=\"dataframe\">\n",
       "  <thead>\n",
       "    <tr style=\"text-align: right;\">\n",
       "      <th></th>\n",
       "      <th>cnpj</th>\n",
       "      <th>nome</th>\n",
       "      <th>penalidade</th>\n",
       "      <th>sancionador</th>\n",
       "      <th>motivo</th>\n",
       "      <th>dataInicio</th>\n",
       "      <th>dataFim</th>\n",
       "      <th>origem</th>\n",
       "      <th>razao_social</th>\n",
       "      <th>situacao_cadastral</th>\n",
       "      <th>...</th>\n",
       "      <th>uf</th>\n",
       "      <th>porte_empresa</th>\n",
       "      <th>dsc_cnae</th>\n",
       "      <th>motivop</th>\n",
       "      <th>penalidadep</th>\n",
       "      <th>mes</th>\n",
       "      <th>ano</th>\n",
       "      <th>natureza</th>\n",
       "      <th>dataFim2</th>\n",
       "      <th>dias_de_penalidade</th>\n",
       "    </tr>\n",
       "  </thead>\n",
       "  <tbody>\n",
       "    <tr>\n",
       "      <th>9041</th>\n",
       "      <td>2282215000178</td>\n",
       "      <td>INSTITUTO MANGUE VERDE</td>\n",
       "      <td>inexecução parcial da nota de empenho 2017ne04315</td>\n",
       "      <td>ministerio do planejamento,desenv. e gestao</td>\n",
       "      <td>proibida de contratar com o poder público ou r...</td>\n",
       "      <td>2014-05-30</td>\n",
       "      <td>2034-05-29</td>\n",
       "      <td>SICAF</td>\n",
       "      <td>INSTITUTO MANGUE VERDE</td>\n",
       "      <td>8.0</td>\n",
       "      <td>...</td>\n",
       "      <td>AL</td>\n",
       "      <td>5.0</td>\n",
       "      <td>ATIVIDADES DE ASSOCIAÇÕES DE DEFESA DE DIREITO...</td>\n",
       "      <td>Acórdão TCU</td>\n",
       "      <td>Inexecução</td>\n",
       "      <td>05</td>\n",
       "      <td>2014</td>\n",
       "      <td>3</td>\n",
       "      <td>2034-05-29</td>\n",
       "      <td>7304.0</td>\n",
       "    </tr>\n",
       "  </tbody>\n",
       "</table>\n",
       "<p>1 rows × 22 columns</p>\n",
       "</div>"
      ],
      "text/plain": [
       "               cnpj                    nome  \\\n",
       "9041  2282215000178  INSTITUTO MANGUE VERDE   \n",
       "\n",
       "                                             penalidade  \\\n",
       "9041  inexecução parcial da nota de empenho 2017ne04315   \n",
       "\n",
       "                                      sancionador  \\\n",
       "9041  ministerio do planejamento,desenv. e gestao   \n",
       "\n",
       "                                                 motivo dataInicio  \\\n",
       "9041  proibida de contratar com o poder público ou r... 2014-05-30   \n",
       "\n",
       "         dataFim origem            razao_social  situacao_cadastral  ...  uf  \\\n",
       "9041  2034-05-29  SICAF  INSTITUTO MANGUE VERDE                 8.0  ...  AL   \n",
       "\n",
       "     porte_empresa                                           dsc_cnae  \\\n",
       "9041           5.0  ATIVIDADES DE ASSOCIAÇÕES DE DEFESA DE DIREITO...   \n",
       "\n",
       "          motivop penalidadep mes   ano natureza   dataFim2 dias_de_penalidade  \n",
       "9041  Acórdão TCU  Inexecução  05  2014        3 2034-05-29             7304.0  \n",
       "\n",
       "[1 rows x 22 columns]"
      ]
     },
     "execution_count": 73,
     "metadata": {},
     "output_type": "execute_result"
    }
   ],
   "source": [
    "pen[pen.dias_de_penalidade > 7000]"
   ]
  },
  {
   "cell_type": "code",
   "execution_count": 74,
   "metadata": {},
   "outputs": [
    {
     "data": {
      "text/html": [
       "<div>\n",
       "<style scoped>\n",
       "    .dataframe tbody tr th:only-of-type {\n",
       "        vertical-align: middle;\n",
       "    }\n",
       "\n",
       "    .dataframe tbody tr th {\n",
       "        vertical-align: top;\n",
       "    }\n",
       "\n",
       "    .dataframe thead th {\n",
       "        text-align: right;\n",
       "    }\n",
       "</style>\n",
       "<table border=\"1\" class=\"dataframe\">\n",
       "  <thead>\n",
       "    <tr style=\"text-align: right;\">\n",
       "      <th></th>\n",
       "      <th>amin</th>\n",
       "      <th>mean</th>\n",
       "      <th>amax</th>\n",
       "    </tr>\n",
       "    <tr>\n",
       "      <th>penalidadep</th>\n",
       "      <th></th>\n",
       "      <th></th>\n",
       "      <th></th>\n",
       "    </tr>\n",
       "  </thead>\n",
       "  <tbody>\n",
       "    <tr>\n",
       "      <th>Advertência</th>\n",
       "      <td>0</td>\n",
       "      <td>0</td>\n",
       "      <td>0</td>\n",
       "    </tr>\n",
       "    <tr>\n",
       "      <th>Decisão Judicial</th>\n",
       "      <td>0</td>\n",
       "      <td>0</td>\n",
       "      <td>0</td>\n",
       "    </tr>\n",
       "    <tr>\n",
       "      <th>Impedimento</th>\n",
       "      <td>0</td>\n",
       "      <td>0</td>\n",
       "      <td>0</td>\n",
       "    </tr>\n",
       "    <tr>\n",
       "      <th>Inexecução</th>\n",
       "      <td>0</td>\n",
       "      <td>1525</td>\n",
       "      <td>7304</td>\n",
       "    </tr>\n",
       "    <tr>\n",
       "      <th>Inidoneidade</th>\n",
       "      <td>0</td>\n",
       "      <td>0</td>\n",
       "      <td>0</td>\n",
       "    </tr>\n",
       "    <tr>\n",
       "      <th>Multa</th>\n",
       "      <td>0</td>\n",
       "      <td>0</td>\n",
       "      <td>0</td>\n",
       "    </tr>\n",
       "    <tr>\n",
       "      <th>Outras</th>\n",
       "      <td>0</td>\n",
       "      <td>287</td>\n",
       "      <td>3652</td>\n",
       "    </tr>\n",
       "    <tr>\n",
       "      <th>Proibição</th>\n",
       "      <td>0</td>\n",
       "      <td>0</td>\n",
       "      <td>0</td>\n",
       "    </tr>\n",
       "    <tr>\n",
       "      <th>Suspensão</th>\n",
       "      <td>0</td>\n",
       "      <td>104</td>\n",
       "      <td>1826</td>\n",
       "    </tr>\n",
       "  </tbody>\n",
       "</table>\n",
       "</div>"
      ],
      "text/plain": [
       "                  amin  mean  amax\n",
       "penalidadep                       \n",
       "Advertência          0     0     0\n",
       "Decisão Judicial     0     0     0\n",
       "Impedimento          0     0     0\n",
       "Inexecução           0  1525  7304\n",
       "Inidoneidade         0     0     0\n",
       "Multa                0     0     0\n",
       "Outras               0   287  3652\n",
       "Proibição            0     0     0\n",
       "Suspensão            0   104  1826"
      ]
     },
     "execution_count": 74,
     "metadata": {},
     "output_type": "execute_result"
    }
   ],
   "source": [
    "pen['dias_de_penalidade'] = pen['dias_de_penalidade'].fillna(0)\n",
    "a = pen.groupby('penalidadep')['dias_de_penalidade'].agg([pd.np.min, pd.np.mean, pd.np.max])\n",
    "a = a.astype(int)\n",
    "a"
   ]
  },
  {
   "cell_type": "markdown",
   "metadata": {},
   "source": [
    "## Conclusão\n",
    "* Poucas empresas são penalizadas.\n",
    "* A falta de integração dos sistemas de registro de penalidades complicam tanto o registro quanto o uso da informação.\n",
    "* Precisamos garantir que os penalizados sejam impedidos na origem de serem contratados ou receberem recursos via repasse, convênios.\n",
    "\n",
    "##  Próximos Passos\n",
    "1. Integrar os dados de penalidades dos sistemas de compras do Brasil no âmbito Nacional via RNCP\n",
    "2. Usar um sistema único para registro de penalidades \n",
    "3. Travar no Sistema a contratação ou participação de Empresas Impedidas\n",
    "4. Criar modelo de aprendizado de máquina para prever se uma empresa será penalizada de novo para gerar alertas de riscos futuros"
   ]
  }
 ],
 "metadata": {
  "celltoolbar": "Raw Cell Format",
  "kernelspec": {
   "display_name": "Python 3",
   "language": "python",
   "name": "python3"
  },
  "language_info": {
   "codemirror_mode": {
    "name": "ipython",
    "version": 3
   },
   "file_extension": ".py",
   "mimetype": "text/x-python",
   "name": "python",
   "nbconvert_exporter": "python",
   "pygments_lexer": "ipython3",
   "version": "3.7.0"
  }
 },
 "nbformat": 4,
 "nbformat_minor": 2
}
